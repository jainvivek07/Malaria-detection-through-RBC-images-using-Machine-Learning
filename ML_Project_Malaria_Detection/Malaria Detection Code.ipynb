{
 "cells": [
  {
   "cell_type": "markdown",
   "metadata": {},
   "source": [
    "ML PROJECT ON MALARIA DETECTION\n",
    "\n",
    "Vivek Jain : 2021218\n",
    "Manan Garg : 2021163\n",
    "Tushar : 2020478"
   ]
  },
  {
   "cell_type": "markdown",
   "metadata": {},
   "source": [
    "DATASET LINK: https://www.kaggle.com/datasets/iarunava/cell-images-for-detecting-malaria"
   ]
  },
  {
   "cell_type": "code",
   "execution_count": 21,
   "id": "d86e2a90",
   "metadata": {},
   "outputs": [],
   "source": [
    "from save_load import save_model, load_model, save_feature, load_feature\n",
    "from utils import import_images, make_label\n",
    "from LocalFeature import LocalFeature\n",
    "import numpy as np\n",
    "import pandas as pd\n",
    "import cv2\n",
    "import preprocessing\n",
    "from general_models import LogisticModel, SVMModel, DTModel, ada_boost, naive_bayes, k_nearest_neighbors, random_forest\n",
    "from sklearn.model_selection import train_test_split\n",
    "from sklearn.linear_model import LogisticRegression\n",
    "import copy"
   ]
  },
  {
   "cell_type": "code",
   "execution_count": 22,
   "id": "9b223116",
   "metadata": {},
   "outputs": [],
   "source": [
    "from sklearn import metrics\n",
    "import matplotlib.pyplot as plt\n",
    "def metric(y_test, y_pred):\n",
    "    matrix = metrics.confusion_matrix(y_test, y_pred)\n",
    "    accuracy = metrics.accuracy_score(y_test, y_pred)\n",
    "    precision = metrics.precision_score(y_test, y_pred)\n",
    "    recall = metrics.recall_score(y_test, y_pred)\n",
    "    f1 = metrics.f1_score(y_test, y_pred)\n",
    "    return matrix,accuracy,precision,recall,f1\n",
    "\n",
    "def plot_roc(y1, y2, prob_list,classes):\n",
    "    fpr = []\n",
    "    tpr = []\n",
    "    roc_auc = []\n",
    "    for i,name in enumerate(classes):\n",
    "        if name == 'SIFT BOVW':\n",
    "            f, t, _ = metrics.roc_curve(y2, prob_list[i], pos_label=1)\n",
    "            ra = metrics.roc_auc_score(y2, prob_list[i])\n",
    "            fpr.append(f)\n",
    "            tpr.append(t)\n",
    "            roc_auc.append(ra)\n",
    "            continue\n",
    "        f, t, _ = metrics.roc_curve(y1, prob_list[i], pos_label=1)\n",
    "        ra = metrics.roc_auc_score(y1, prob_list[i])\n",
    "        fpr.append(f)\n",
    "        tpr.append(t)\n",
    "        roc_auc.append(ra)\n",
    "\n",
    "    plt.figure(figsize=(12, 6))\n",
    "    colors = [ 'red','orange', 'purple']\n",
    "    for i in range(len(classes)):\n",
    "        plt.plot(fpr[i], tpr[i], color=colors[i],label='ROC curve for ' + classes[i] + ' class (area = {1:0.2f})'\n",
    "                 ''.format(i, roc_auc[i]))\n",
    "\n",
    "    plt.xlabel('False Positive Rate')\n",
    "    plt.ylabel('True Positive Rate')\n",
    "    plt.legend()\n",
    "    plt.show()"
   ]
  },
  {
   "cell_type": "markdown",
   "id": "1e832830",
   "metadata": {},
   "source": [
    "<h3>Import images in original and grayscale"
   ]
  },
  {
   "cell_type": "code",
   "execution_count": 23,
   "id": "2d0de6c5",
   "metadata": {},
   "outputs": [],
   "source": [
    "p_img, p_grey = import_images(r'D:\\Downloads\\MalariaDetection-main-20230525T122924Z-001\\MalariaDetection-main\\dataset\\test\\cell_images\\Parasitized\\*.png')\n",
    "u_img, u_grey = import_images(r'D:\\Downloads\\MalariaDetection-main-20230525T122924Z-001\\MalariaDetection-main\\dataset\\test\\cell_images\\Uninfected\\*.png')"
   ]
  },
  {
   "cell_type": "code",
   "execution_count": 24,
   "id": "ed11b6cc",
   "metadata": {},
   "outputs": [],
   "source": [
    "original_image = p_img.copy()\n",
    "original_image.extend(u_img)\n",
    "gray_image = p_grey.copy()\n",
    "gray_image.extend(u_grey)"
   ]
  },
  {
   "cell_type": "code",
   "execution_count": 25,
   "id": "c1f07c0c",
   "metadata": {},
   "outputs": [
    {
     "name": "stdout",
     "output_type": "stream",
     "text": [
      "Successfully saved features\n",
      "Successfully saved features\n"
     ]
    }
   ],
   "source": [
    "save_feature(original_image,'./features_pkl/original_images')\n",
    "save_feature(gray_image,'./features_pkl/original_images_gray')"
   ]
  },
  {
   "cell_type": "code",
   "execution_count": 26,
   "id": "2c843c5b",
   "metadata": {},
   "outputs": [
    {
     "name": "stdout",
     "output_type": "stream",
     "text": [
      "Original shape: 27558\n",
      "Gray shape: 27558\n"
     ]
    }
   ],
   "source": [
    "original_image = load_feature('./features_pkl/original_images.pkl')\n",
    "gray_image = load_feature('./features_pkl/original_images_gray.pkl')\n",
    "print(\"Original shape:\",len(original_image))\n",
    "print(\"Gray shape:\",len(gray_image))"
   ]
  },
  {
   "cell_type": "code",
   "execution_count": 27,
   "id": "17be7cc1",
   "metadata": {},
   "outputs": [
    {
     "data": {
      "text/plain": [
       "(27558,)"
      ]
     },
     "execution_count": 27,
     "metadata": {},
     "output_type": "execute_result"
    }
   ],
   "source": [
    "label = make_label(27558)\n",
    "label.shape"
   ]
  },
  {
   "cell_type": "markdown",
   "id": "bf217cb5",
   "metadata": {},
   "source": [
    "<h3>Resize Gray image"
   ]
  },
  {
   "cell_type": "code",
   "execution_count": 28,
   "id": "54f5ab45",
   "metadata": {},
   "outputs": [
    {
     "name": "stdout",
     "output_type": "stream",
     "text": [
      "Successfully saved features\n"
     ]
    }
   ],
   "source": [
    "np_img = preprocessing.resize_image(original_image, 27558, 64)\n",
    "save_feature(np_img,'./features_pkl/raw_resized_features')"
   ]
  },
  {
   "cell_type": "code",
   "execution_count": 29,
   "id": "5afd418c",
   "metadata": {},
   "outputs": [
    {
     "name": "stdout",
     "output_type": "stream",
     "text": [
      "(27558, 64, 64, 3)\n"
     ]
    }
   ],
   "source": [
    "np_img = load_feature('./features_pkl/raw_resized_features.pkl')\n",
    "print(np_img.shape)"
   ]
  },
  {
   "cell_type": "markdown",
   "id": "d4cf0a5c",
   "metadata": {},
   "source": [
    "<h3> Global feature extraction on raw images"
   ]
  },
  {
   "cell_type": "code",
   "execution_count": 30,
   "id": "462fa81e",
   "metadata": {},
   "outputs": [
    {
     "name": "stdout",
     "output_type": "stream",
     "text": [
      "Successfully saved features\n"
     ]
    }
   ],
   "source": [
    "np_original = preprocessing.global_feature_extractor(gray_image, 27558)\n",
    "save_feature(np_original,'./features_pkl/global_raw_image_features')"
   ]
  },
  {
   "cell_type": "code",
   "execution_count": 31,
   "id": "30db6854",
   "metadata": {},
   "outputs": [
    {
     "name": "stdout",
     "output_type": "stream",
     "text": [
      "(27558, 28)\n"
     ]
    }
   ],
   "source": [
    "np_original = load_feature('./features_pkl/global_raw_image_features.pkl')\n",
    "print(np_original.shape)"
   ]
  },
  {
   "cell_type": "markdown",
   "id": "10f47306",
   "metadata": {},
   "source": [
    "<h3>Global feature extraction on canny filter"
   ]
  },
  {
   "cell_type": "code",
   "execution_count": 32,
   "id": "c49b0a27",
   "metadata": {},
   "outputs": [
    {
     "name": "stdout",
     "output_type": "stream",
     "text": [
      "Successfully saved features\n",
      "CPU times: total: 1min 42s\n",
      "Wall time: 10min 46s\n"
     ]
    }
   ],
   "source": [
    "%%time\n",
    "canny_images = preprocessing.canny_preprocessing(gray_image, 27558)\n",
    "np_canny = preprocessing.global_feature_extractor(canny_images, 27558)\n",
    "save_feature(np_canny,'./features_pkl/global_canny_image_features')"
   ]
  },
  {
   "cell_type": "code",
   "execution_count": 33,
   "id": "3ff400ac",
   "metadata": {},
   "outputs": [
    {
     "name": "stdout",
     "output_type": "stream",
     "text": [
      "(27558, 28)\n"
     ]
    }
   ],
   "source": [
    "np_canny = load_feature('./features_pkl/global_canny_image_features.pkl')\n",
    "print(np_canny.shape)"
   ]
  },
  {
   "cell_type": "markdown",
   "id": "d4580e01",
   "metadata": {},
   "source": [
    "<h3>Global feature extraction on clahe filter"
   ]
  },
  {
   "cell_type": "code",
   "execution_count": 34,
   "id": "29238e32",
   "metadata": {},
   "outputs": [
    {
     "name": "stdout",
     "output_type": "stream",
     "text": [
      "Successfully saved features\n",
      "CPU times: total: 1min 35s\n",
      "Wall time: 10min 5s\n"
     ]
    }
   ],
   "source": [
    "%%time\n",
    "clahe_images = preprocessing.clahe_preprocessing(gray_image, 27558)\n",
    "np_clahe = preprocessing.global_feature_extractor(clahe_images, 27558)\n",
    "save_feature(np_clahe,'./features_pkl/global_clahe_image_features')"
   ]
  },
  {
   "cell_type": "code",
   "execution_count": 35,
   "id": "12c41417",
   "metadata": {},
   "outputs": [
    {
     "name": "stdout",
     "output_type": "stream",
     "text": [
      "(27558, 28)\n"
     ]
    }
   ],
   "source": [
    "np_clahe = load_feature('./features_pkl/global_clahe_image_features.pkl')\n",
    "print(np_clahe.shape)"
   ]
  },
  {
   "cell_type": "markdown",
   "id": "f02cd386",
   "metadata": {},
   "source": [
    "<h3>Global feature extraction on sobel edge detection"
   ]
  },
  {
   "cell_type": "code",
   "execution_count": 36,
   "id": "1a7f180b",
   "metadata": {},
   "outputs": [
    {
     "name": "stdout",
     "output_type": "stream",
     "text": [
      "Successfully saved features\n",
      "CPU times: total: 1min 46s\n",
      "Wall time: 11min 26s\n"
     ]
    }
   ],
   "source": [
    "%%time\n",
    "sobel_images = preprocessing.sobel_preprocessing(gray_image, 27558)\n",
    "np_sobel = preprocessing.global_feature_extractor(sobel_images, 27558)\n",
    "save_feature(np_sobel,'./features_pkl/global_sobel_image_features')"
   ]
  },
  {
   "cell_type": "code",
   "execution_count": 37,
   "id": "4e8ec1f2",
   "metadata": {},
   "outputs": [
    {
     "name": "stdout",
     "output_type": "stream",
     "text": [
      "(27558, 28)\n"
     ]
    }
   ],
   "source": [
    "np_sobel = load_feature('./features_pkl/global_sobel_image_features.pkl')\n",
    "print(np_sobel.shape)"
   ]
  },
  {
   "cell_type": "markdown",
   "id": "1224a99c",
   "metadata": {},
   "source": [
    "<h3>Global feature extraction on scharr edge detection"
   ]
  },
  {
   "cell_type": "code",
   "execution_count": 38,
   "id": "5f3e9f67",
   "metadata": {},
   "outputs": [
    {
     "name": "stdout",
     "output_type": "stream",
     "text": [
      "Successfully saved features\n",
      "CPU times: total: 2min 31s\n",
      "Wall time: 12min 23s\n"
     ]
    }
   ],
   "source": [
    "%%time\n",
    "scharr_images = preprocessing.scharr_preprocessing(gray_image, 27558)\n",
    "np_scharr = preprocessing.global_feature_extractor(scharr_images, 27558)\n",
    "save_feature(np_scharr,'./features_pkl/global_scharr_image_features')"
   ]
  },
  {
   "cell_type": "code",
   "execution_count": 39,
   "id": "be32aeb1",
   "metadata": {},
   "outputs": [
    {
     "name": "stdout",
     "output_type": "stream",
     "text": [
      "(27558, 28)\n"
     ]
    }
   ],
   "source": [
    "np_scharr = load_feature('./features_pkl/global_scharr_image_features.pkl')\n",
    "print(np_scharr.shape)"
   ]
  },
  {
   "cell_type": "markdown",
   "id": "496cf34d",
   "metadata": {},
   "source": [
    "<h3>Global feature test accuracy on baseline model"
   ]
  },
  {
   "cell_type": "code",
   "execution_count": 40,
   "id": "17cf28db",
   "metadata": {},
   "outputs": [],
   "source": [
    "from sklearn.preprocessing import StandardScaler\n",
    "\n",
    "def StandardScaling_1(X):\n",
    "    scaler = StandardScaler()\n",
    "    scaler.fit(X)\n",
    "    X = scaler.transform(X)\n",
    "    return X"
   ]
  },
  {
   "cell_type": "code",
   "execution_count": 41,
   "id": "12b2cfb3",
   "metadata": {},
   "outputs": [
    {
     "name": "stdout",
     "output_type": "stream",
     "text": [
      "Training Done for : raw\n",
      "Training Done for : canny\n",
      "Training Done for : clahe\n",
      "Training Done for : scharr\n",
      "Training Done for : sobel\n"
     ]
    }
   ],
   "source": [
    "ll = ['raw', 'canny', 'clahe', 'scharr', 'sobel']\n",
    "log_acc = []\n",
    "svc_acc = []\n",
    "dt_acc = []\n",
    "rf_acc = []\n",
    "knn_acc = []\n",
    "nb_acc = []\n",
    "ab_acc = []\n",
    "for itr in ll:\n",
    "    filename = './features_pkl/global_'+ itr + '_image_features.pkl'\n",
    "    data = load_feature(filename)\n",
    "    x_train, x_test, y_train, y_test = train_test_split(data, label, test_size=0.25, random_state=42)\n",
    "    x_train = StandardScaling_1(x_train)\n",
    "    x_test = StandardScaling_1(x_test)\n",
    "    log_acc.append(LogisticModel(x_train, x_test, y_train, y_test))\n",
    "    svc_acc.append(SVMModel(x_train, x_test, y_train, y_test))\n",
    "    dt_acc.append(DTModel(x_train, x_test, y_train, y_test))\n",
    "    rf_acc.append(random_forest(x_train, x_test, y_train, y_test))\n",
    "    knn_acc.append(k_nearest_neighbors(x_train, x_test, y_train, y_test))\n",
    "    nb_acc.append(naive_bayes(x_train, x_test, y_train, y_test))\n",
    "    ab_acc.append(ada_boost(x_train, x_test, y_train, y_test))\n",
    "    print(\"Training Done for :\", itr)"
   ]
  },
  {
   "cell_type": "code",
   "execution_count": 42,
   "id": "11c24c6d",
   "metadata": {},
   "outputs": [
    {
     "data": {
      "text/html": [
       "<div>\n",
       "<style scoped>\n",
       "    .dataframe tbody tr th:only-of-type {\n",
       "        vertical-align: middle;\n",
       "    }\n",
       "\n",
       "    .dataframe tbody tr th {\n",
       "        vertical-align: top;\n",
       "    }\n",
       "\n",
       "    .dataframe thead th {\n",
       "        text-align: right;\n",
       "    }\n",
       "</style>\n",
       "<table border=\"1\" class=\"dataframe\">\n",
       "  <thead>\n",
       "    <tr style=\"text-align: right;\">\n",
       "      <th></th>\n",
       "      <th>Model</th>\n",
       "      <th>Logistic Accuracy</th>\n",
       "      <th>SVM Accuracy</th>\n",
       "      <th>DT Accuracy</th>\n",
       "      <th>RF Accuracy</th>\n",
       "      <th>KNN Accuracy</th>\n",
       "      <th>NB Accuracy</th>\n",
       "      <th>AB Accuracy</th>\n",
       "    </tr>\n",
       "  </thead>\n",
       "  <tbody>\n",
       "    <tr>\n",
       "      <th>0</th>\n",
       "      <td>raw</td>\n",
       "      <td>0.863570</td>\n",
       "      <td>0.872424</td>\n",
       "      <td>0.693759</td>\n",
       "      <td>0.800726</td>\n",
       "      <td>0.739478</td>\n",
       "      <td>0.494194</td>\n",
       "      <td>0.771553</td>\n",
       "    </tr>\n",
       "    <tr>\n",
       "      <th>1</th>\n",
       "      <td>canny</td>\n",
       "      <td>0.839042</td>\n",
       "      <td>0.862700</td>\n",
       "      <td>0.776633</td>\n",
       "      <td>0.858926</td>\n",
       "      <td>0.829608</td>\n",
       "      <td>0.731205</td>\n",
       "      <td>0.836865</td>\n",
       "    </tr>\n",
       "    <tr>\n",
       "      <th>2</th>\n",
       "      <td>clahe</td>\n",
       "      <td>0.826560</td>\n",
       "      <td>0.852395</td>\n",
       "      <td>0.589840</td>\n",
       "      <td>0.749927</td>\n",
       "      <td>0.797388</td>\n",
       "      <td>0.671988</td>\n",
       "      <td>0.801306</td>\n",
       "    </tr>\n",
       "    <tr>\n",
       "      <th>3</th>\n",
       "      <td>scharr</td>\n",
       "      <td>0.894340</td>\n",
       "      <td>0.893759</td>\n",
       "      <td>0.784615</td>\n",
       "      <td>0.875907</td>\n",
       "      <td>0.851379</td>\n",
       "      <td>0.761684</td>\n",
       "      <td>0.859071</td>\n",
       "    </tr>\n",
       "    <tr>\n",
       "      <th>4</th>\n",
       "      <td>sobel</td>\n",
       "      <td>0.912627</td>\n",
       "      <td>0.909144</td>\n",
       "      <td>0.791727</td>\n",
       "      <td>0.883599</td>\n",
       "      <td>0.852685</td>\n",
       "      <td>0.784470</td>\n",
       "      <td>0.862264</td>\n",
       "    </tr>\n",
       "  </tbody>\n",
       "</table>\n",
       "</div>"
      ],
      "text/plain": [
       "    Model  Logistic Accuracy  SVM Accuracy  DT Accuracy  RF Accuracy  \\\n",
       "0     raw           0.863570      0.872424     0.693759     0.800726   \n",
       "1   canny           0.839042      0.862700     0.776633     0.858926   \n",
       "2   clahe           0.826560      0.852395     0.589840     0.749927   \n",
       "3  scharr           0.894340      0.893759     0.784615     0.875907   \n",
       "4   sobel           0.912627      0.909144     0.791727     0.883599   \n",
       "\n",
       "   KNN Accuracy  NB Accuracy  AB Accuracy  \n",
       "0      0.739478     0.494194     0.771553  \n",
       "1      0.829608     0.731205     0.836865  \n",
       "2      0.797388     0.671988     0.801306  \n",
       "3      0.851379     0.761684     0.859071  \n",
       "4      0.852685     0.784470     0.862264  "
      ]
     },
     "execution_count": 42,
     "metadata": {},
     "output_type": "execute_result"
    }
   ],
   "source": [
    "df = pd.DataFrame({'Model' : ll , \"Logistic Accuracy\" : log_acc, \"SVM Accuracy\": svc_acc, \"DT Accuracy\": dt_acc, \"RF Accuracy\": rf_acc, \"KNN Accuracy\": knn_acc, \"NB Accuracy\": nb_acc, \"AB Accuracy\": ab_acc})\n",
    "df"
   ]
  },
  {
   "cell_type": "code",
   "execution_count": 43,
   "id": "addee7be",
   "metadata": {},
   "outputs": [
    {
     "name": "stdout",
     "output_type": "stream",
     "text": [
      "raw\n"
     ]
    },
    {
     "name": "stdout",
     "output_type": "stream",
     "text": [
      "Training Done for : raw\n",
      "canny\n",
      "Training Done for : canny\n",
      "clahe\n",
      "Training Done for : clahe\n",
      "scharr\n",
      "Training Done for : scharr\n",
      "sobel\n",
      "Training Done for : sobel\n"
     ]
    }
   ],
   "source": [
    "from sklearn.tree import DecisionTreeClassifier\n",
    "from sklearn.linear_model import LogisticRegression\n",
    "from sklearn.svm import SVC\n",
    "from sklearn.naive_bayes import GaussianNB\n",
    "from sklearn.neighbors import KNeighborsClassifier\n",
    "from sklearn.ensemble import RandomForestClassifier, AdaBoostClassifier\n",
    "\n",
    "ll = ['raw', 'canny', 'clahe', 'scharr', 'sobel']\n",
    "log_ac = []\n",
    "log_pr = []\n",
    "log_re = []\n",
    "log_f1 = []\n",
    "svc_ac = []\n",
    "svc_pr = []\n",
    "svc_re = []\n",
    "svc_f1 = []\n",
    "dt_ac = []\n",
    "dt_pr = []\n",
    "dt_re = []\n",
    "dt_f1 = []\n",
    "rf_ac, rf_pr, rf_re, rf_f1 = [],[],[],[]\n",
    "knn_ac, knn_pr, knn_re, knn_f1 = [],[],[],[]\n",
    "ab_ac, ab_pr, ab_re, ab_f1 = [],[],[],[]\n",
    "nb_ac, nb_pr, nb_re, nb_f1 = [],[],[],[]\n",
    "for itr in ll:\n",
    "    print(itr)\n",
    "    filename = './features_pkl/global_'+ itr + '_image_features.pkl'\n",
    "    data = load_feature(filename)\n",
    "    x_train, x_test, y_train, y_test = train_test_split(data, label, test_size=0.25, random_state=42)\n",
    "    x_train = StandardScaling_1(x_train)\n",
    "    x_test = StandardScaling_1(x_test)\n",
    "    # log_acc.append(LogisticModel(x_train, x_test, y_train, y_test))\n",
    "    # svc_acc.append(SVMModel(x_train, x_test, y_train, y_test))\n",
    "    # dt_acc.append(DTModel(x_train, x_test, y_train, y_test))\n",
    "    model = LogisticRegression(max_iter = 500)\n",
    "    model.fit(x_train, y_train)\n",
    "    y_pred = model.predict(x_test)\n",
    "    a,b,c,d,e = metric(y_test, y_pred)\n",
    "    # print(\"logistic Regression : \",b,c,d,e)\n",
    "    log_ac.append(b)\n",
    "    log_pr.append(c)\n",
    "    log_re.append(d)\n",
    "    log_f1.append(e)\n",
    "    \n",
    "\n",
    "    clf_svc = SVC().fit(x_train, y_train)\n",
    "    y_pred = clf_svc.predict(x_test)\n",
    "    a,b,c,d,e = metric(y_test, y_pred)\n",
    "    # print(\"SVM : \",b,c,d,e)'\n",
    "    svc_ac.append(b)\n",
    "    svc_pr.append(c)\n",
    "    svc_re.append(d)\n",
    "    svc_f1.append(e)\n",
    "\n",
    "    dt_model = DecisionTreeClassifier()\n",
    "    dt_model.fit(x_train, y_train)\n",
    "    y_pred = dt_model.predict(x_test)\n",
    "    a,b,c,d,e = metric(y_test, y_pred)\n",
    "    # print(\"DT : \",b,c,d,e)\n",
    "    dt_ac.append(b)\n",
    "    dt_pr.append(c)\n",
    "    dt_re.append(d)\n",
    "    dt_f1.append(e)\n",
    "\n",
    "    rf_model = RandomForestClassifier()\n",
    "    rf_model.fit(x_train, y_train)\n",
    "    y_pred = rf_model.predict(x_test)\n",
    "    a,b,c,d,e = metric(y_test, y_pred)\n",
    "    rf_ac.append(b)\n",
    "    rf_pr.append(c)\n",
    "    rf_re.append(d)\n",
    "    rf_f1.append(e)\n",
    "\n",
    "    knn_model = KNeighborsClassifier()\n",
    "    knn_model.fit(x_train, y_train)\n",
    "    y_pred = knn_model.predict(x_test)\n",
    "    a,b,c,d,e = metric(y_test, y_pred)\n",
    "    knn_ac.append(b)\n",
    "    knn_pr.append(c)\n",
    "    knn_re.append(d)\n",
    "    knn_f1.append(e)\n",
    "\n",
    "    nb_model = GaussianNB()\n",
    "    nb_model.fit(x_train, y_train)\n",
    "    y_pred = nb_model.predict(x_test)\n",
    "    a,b,c,d,e = metric(y_test, y_pred)\n",
    "    nb_ac.append(b)\n",
    "    nb_pr.append(c)\n",
    "    nb_re.append(d)\n",
    "    nb_f1.append(e)\n",
    "\n",
    "    ab_model = AdaBoostClassifier()\n",
    "    ab_model.fit(x_train, y_train)\n",
    "    y_pred = ab_model.predict(x_test)\n",
    "    a,b,c,d,e = metric(y_test, y_pred)\n",
    "    ab_ac.append(b)\n",
    "    ab_pr.append(c)\n",
    "    ab_re.append(d)\n",
    "    ab_f1.append(e)\n",
    "\n",
    "    print(\"Training Done for :\", itr)"
   ]
  },
  {
   "cell_type": "code",
   "execution_count": 44,
   "id": "f4709ea9",
   "metadata": {},
   "outputs": [
    {
     "name": "stdout",
     "output_type": "stream",
     "text": [
      "    Model  Logistic Accuracy  Logistic Precision  Logistic Recall  Logistic f1\n",
      "0     raw           0.863570            0.877600         0.848363     0.862734\n",
      "1   canny           0.839042            0.823915         0.866743     0.844787\n",
      "2   clahe           0.826560            0.847674         0.800689     0.823512\n",
      "3  scharr           0.894340            0.910310         0.877369     0.893536\n",
      "4   sobel           0.912627            0.928571         0.896037     0.912014\n",
      "\n",
      "    Model  SVM Accuracy  SVM Precision  SVM Recall    SVM f1\n",
      "0     raw      0.872424       0.881113    0.864159  0.872553\n",
      "1   canny      0.862700       0.862286    0.866743  0.864509\n",
      "2   clahe      0.852395       0.855085    0.852384  0.853732\n",
      "3  scharr      0.893759       0.907528    0.879380  0.893232\n",
      "4   sobel      0.909144       0.931942    0.884836  0.907778\n",
      "\n",
      "    Model  DT Accuracy  DT Precision  DT Recall     DT f1\n",
      "0     raw     0.726415      0.705640   0.786904  0.744060\n",
      "1   canny     0.775327      0.787285   0.761057  0.773949\n",
      "2   clahe     0.593904      0.598276   0.597932  0.598104\n",
      "3  scharr     0.794630      0.806950   0.780299  0.793400\n",
      "4   sobel     0.793759      0.794009   0.799253  0.796622\n",
      "\n",
      "    Model  RF Accuracy  RF Precision  RF Recall     RF f1\n",
      "0     raw     0.806531      0.776150   0.867318  0.819205\n",
      "1   canny     0.858781      0.856089   0.866169  0.861099\n",
      "2   clahe     0.754717      0.716216   0.852384  0.778390\n",
      "3  scharr     0.877358      0.880739   0.875933  0.878330\n",
      "4   sobel     0.884906      0.891868   0.878805  0.885289\n",
      "\n",
      "    Model  KNN Accuracy  KNN Precision  KNN Recall    KNN f1\n",
      "0     raw      0.739478       0.741069    0.744687  0.742874\n",
      "1   canny      0.829608       0.830280    0.833142  0.831709\n",
      "2   clahe      0.797388       0.792813    0.811028  0.801817\n",
      "3  scharr      0.851379       0.868626    0.831706  0.849765\n",
      "4   sobel      0.852685       0.865915    0.838311  0.851890\n",
      "\n",
      "    Model  NB Accuracy  NB Precision  NB Recall     NB f1\n",
      "0     raw     0.494194      0.000000   0.000000  0.000000\n",
      "1   canny     0.731205      0.781617   0.649627  0.709536\n",
      "2   clahe     0.671988      0.854820   0.422746  0.565719\n",
      "3  scharr     0.761684      0.845605   0.646468  0.732747\n",
      "4   sobel     0.784470      0.814686   0.742389  0.776860\n",
      "\n",
      "    Model  AB Accuracy  AB Precision  AB Recall     AB f1\n",
      "0     raw     0.726415      0.705640   0.786904  0.744060\n",
      "1   canny     0.775327      0.787285   0.761057  0.773949\n",
      "2   clahe     0.593904      0.598276   0.597932  0.598104\n",
      "3  scharr     0.794630      0.806950   0.780299  0.793400\n",
      "4   sobel     0.793759      0.794009   0.799253  0.796622\n",
      "\n"
     ]
    }
   ],
   "source": [
    "df = pd.DataFrame({'Model' : ll , \"Logistic Accuracy\" : log_ac, \"Logistic Precision\": log_pr, \"Logistic Recall\": log_re, \"Logistic f1\": log_f1})\n",
    "print(df)\n",
    "print()\n",
    "df = pd.DataFrame({'Model' : ll , \"SVM Accuracy\" : svc_ac, \"SVM Precision\": svc_pr, \"SVM Recall\": svc_re, \"SVM f1\": svc_f1})\n",
    "print(df)\n",
    "print()\n",
    "df = pd.DataFrame({'Model' : ll , \"DT Accuracy\" : dt_ac, \"DT Precision\": dt_pr, \"DT Recall\": dt_re, \"DT f1\": dt_f1})\n",
    "print(df)\n",
    "print()\n",
    "df = pd.DataFrame({'Model' : ll , \"RF Accuracy\" : rf_ac, \"RF Precision\": rf_pr, \"RF Recall\": rf_re, \"RF f1\": rf_f1})\n",
    "print(df)\n",
    "print()\n",
    "df = pd.DataFrame({'Model' : ll , \"KNN Accuracy\" : knn_ac, \"KNN Precision\": knn_pr, \"KNN Recall\": knn_re, \"KNN f1\": knn_f1})\n",
    "print(df)\n",
    "print()\n",
    "df = pd.DataFrame({'Model' : ll , \"NB Accuracy\" : nb_ac, \"NB Precision\": nb_pr, \"NB Recall\": nb_re, \"NB f1\": nb_f1})\n",
    "print(df)\n",
    "print()\n",
    "df = pd.DataFrame({'Model' : ll , \"AB Accuracy\" : dt_ac, \"AB Precision\": dt_pr, \"AB Recall\": dt_re, \"AB f1\": dt_f1})\n",
    "print(df)\n",
    "print()"
   ]
  },
  {
   "cell_type": "markdown",
   "id": "bbcda27d",
   "metadata": {},
   "source": [
    "<h3>SIFT and KAZE"
   ]
  },
  {
   "cell_type": "code",
   "execution_count": 45,
   "id": "79b68315",
   "metadata": {},
   "outputs": [
    {
     "name": "stdout",
     "output_type": "stream",
     "text": [
      "27204 27204\n"
     ]
    },
    {
     "name": "stderr",
     "output_type": "stream",
     "text": [
      "d:\\Vivek\\Python\\lib\\site-packages\\sklearn\\cluster\\_kmeans.py:1416: FutureWarning: The default value of `n_init` will change from 10 to 'auto' in 1.4. Set the value of `n_init` explicitly to suppress the warning\n",
      "  super()._check_params_vs_input(X, default_n_init=10)\n"
     ]
    },
    {
     "name": "stdout",
     "output_type": "stream",
     "text": [
      "Training Done\n",
      "27556 27556\n"
     ]
    },
    {
     "name": "stderr",
     "output_type": "stream",
     "text": [
      "d:\\Vivek\\Python\\lib\\site-packages\\sklearn\\cluster\\_kmeans.py:1416: FutureWarning: The default value of `n_init` will change from 10 to 'auto' in 1.4. Set the value of `n_init` explicitly to suppress the warning\n",
      "  super()._check_params_vs_input(X, default_n_init=10)\n"
     ]
    },
    {
     "name": "stdout",
     "output_type": "stream",
     "text": [
      "Training Done\n",
      "CPU times: total: 13min 17s\n",
      "Wall time: 11min 4s\n"
     ]
    },
    {
     "data": {
      "text/html": [
       "<div>\n",
       "<style scoped>\n",
       "    .dataframe tbody tr th:only-of-type {\n",
       "        vertical-align: middle;\n",
       "    }\n",
       "\n",
       "    .dataframe tbody tr th {\n",
       "        vertical-align: top;\n",
       "    }\n",
       "\n",
       "    .dataframe thead th {\n",
       "        text-align: right;\n",
       "    }\n",
       "</style>\n",
       "<table border=\"1\" class=\"dataframe\">\n",
       "  <thead>\n",
       "    <tr style=\"text-align: right;\">\n",
       "      <th></th>\n",
       "      <th>Feature Type</th>\n",
       "      <th>Logistic Accuracy</th>\n",
       "      <th>SVM Accuracy</th>\n",
       "      <th>DT Accuracy</th>\n",
       "      <th>RF Accuracy</th>\n",
       "      <th>KNN Accuracy</th>\n",
       "      <th>NB Accuracy</th>\n",
       "      <th>AB Accuracy</th>\n",
       "    </tr>\n",
       "  </thead>\n",
       "  <tbody>\n",
       "    <tr>\n",
       "      <th>0</th>\n",
       "      <td>SIFT</td>\n",
       "      <td>0.894427</td>\n",
       "      <td>0.902661</td>\n",
       "      <td>0.853698</td>\n",
       "      <td>0.906190</td>\n",
       "      <td>0.777680</td>\n",
       "      <td>0.879282</td>\n",
       "      <td>0.886193</td>\n",
       "    </tr>\n",
       "    <tr>\n",
       "      <th>1</th>\n",
       "      <td>KAZE</td>\n",
       "      <td>0.668021</td>\n",
       "      <td>0.693134</td>\n",
       "      <td>0.667296</td>\n",
       "      <td>0.669618</td>\n",
       "      <td>0.621861</td>\n",
       "      <td>0.639135</td>\n",
       "      <td>0.693279</td>\n",
       "    </tr>\n",
       "  </tbody>\n",
       "</table>\n",
       "</div>"
      ],
      "text/plain": [
       "  Feature Type  Logistic Accuracy  SVM Accuracy  DT Accuracy  RF Accuracy  \\\n",
       "0         SIFT           0.894427      0.902661     0.853698     0.906190   \n",
       "1         KAZE           0.668021      0.693134     0.667296     0.669618   \n",
       "\n",
       "   KNN Accuracy  NB Accuracy  AB Accuracy  \n",
       "0      0.777680     0.879282     0.886193  \n",
       "1      0.621861     0.639135     0.693279  "
      ]
     },
     "execution_count": 45,
     "metadata": {},
     "output_type": "execute_result"
    }
   ],
   "source": [
    "%%time\n",
    "ll = ['SIFT', 'KAZE']\n",
    "log_acc = []\n",
    "svc_acc = []\n",
    "dt_acc = []\n",
    "rf_acc = []\n",
    "knn_acc = []\n",
    "nb_acc = []\n",
    "ab_acc = []\n",
    "for itr in ll:\n",
    "    LF = LocalFeature(feature_type = itr, cluster_size = 50, test_size = 0.25, image_type = 'original')\n",
    "    x_train, x_test, y_train, y_test = LF.fit(np_img)\n",
    "    log_acc.append(LogisticModel(x_train, x_test, y_train, y_test))\n",
    "    svc_acc.append(SVMModel(x_train, x_test, y_train, y_test))\n",
    "    dt_acc.append(DTModel(x_train, x_test, y_train, y_test))\n",
    "    rf_acc.append(random_forest(x_train, x_test, y_train, y_test))\n",
    "    knn_acc.append(k_nearest_neighbors(x_train, x_test, y_train, y_test))\n",
    "    nb_acc.append(naive_bayes(x_train, x_test, y_train, y_test))\n",
    "    ab_acc.append(ada_boost(x_train, x_test, y_train, y_test))\n",
    "    print(\"Training Done\")\n",
    "\n",
    "    \n",
    "df = pd.DataFrame({'Feature Type' : ll , \"Logistic Accuracy\" : log_acc, \"SVM Accuracy\": svc_acc, \"DT Accuracy\": dt_acc, \"RF Accuracy\": rf_acc, \"KNN Accuracy\": knn_acc, \"NB Accuracy\": nb_acc, \"AB Accuracy\": ab_acc})\n",
    "df"
   ]
  },
  {
   "cell_type": "code",
   "execution_count": 46,
   "id": "eeeaf37a",
   "metadata": {},
   "outputs": [
    {
     "name": "stdout",
     "output_type": "stream",
     "text": [
      "18155 18155\n"
     ]
    },
    {
     "name": "stderr",
     "output_type": "stream",
     "text": [
      "d:\\Vivek\\Python\\lib\\site-packages\\sklearn\\cluster\\_kmeans.py:1416: FutureWarning: The default value of `n_init` will change from 10 to 'auto' in 1.4. Set the value of `n_init` explicitly to suppress the warning\n",
      "  super()._check_params_vs_input(X, default_n_init=10)\n"
     ]
    },
    {
     "name": "stdout",
     "output_type": "stream",
     "text": [
      "27543 27543\n"
     ]
    },
    {
     "name": "stderr",
     "output_type": "stream",
     "text": [
      "d:\\Vivek\\Python\\lib\\site-packages\\sklearn\\cluster\\_kmeans.py:1416: FutureWarning: The default value of `n_init` will change from 10 to 'auto' in 1.4. Set the value of `n_init` explicitly to suppress the warning\n",
      "  super()._check_params_vs_input(X, default_n_init=10)\n"
     ]
    },
    {
     "name": "stdout",
     "output_type": "stream",
     "text": [
      "17909 17909\n"
     ]
    },
    {
     "name": "stderr",
     "output_type": "stream",
     "text": [
      "d:\\Vivek\\Python\\lib\\site-packages\\sklearn\\cluster\\_kmeans.py:1416: FutureWarning: The default value of `n_init` will change from 10 to 'auto' in 1.4. Set the value of `n_init` explicitly to suppress the warning\n",
      "  super()._check_params_vs_input(X, default_n_init=10)\n"
     ]
    },
    {
     "name": "stdout",
     "output_type": "stream",
     "text": [
      "19029 19029\n"
     ]
    },
    {
     "name": "stderr",
     "output_type": "stream",
     "text": [
      "d:\\Vivek\\Python\\lib\\site-packages\\sklearn\\cluster\\_kmeans.py:1416: FutureWarning: The default value of `n_init` will change from 10 to 'auto' in 1.4. Set the value of `n_init` explicitly to suppress the warning\n",
      "  super()._check_params_vs_input(X, default_n_init=10)\n"
     ]
    },
    {
     "name": "stdout",
     "output_type": "stream",
     "text": [
      "CPU times: total: 22min 12s\n",
      "Wall time: 17min 11s\n"
     ]
    },
    {
     "data": {
      "text/html": [
       "<div>\n",
       "<style scoped>\n",
       "    .dataframe tbody tr th:only-of-type {\n",
       "        vertical-align: middle;\n",
       "    }\n",
       "\n",
       "    .dataframe tbody tr th {\n",
       "        vertical-align: top;\n",
       "    }\n",
       "\n",
       "    .dataframe thead th {\n",
       "        text-align: right;\n",
       "    }\n",
       "</style>\n",
       "<table border=\"1\" class=\"dataframe\">\n",
       "  <thead>\n",
       "    <tr style=\"text-align: right;\">\n",
       "      <th></th>\n",
       "      <th>Feature Type</th>\n",
       "      <th>Logistic Accuracy</th>\n",
       "      <th>SVM Accuracy</th>\n",
       "      <th>DT Accuracy</th>\n",
       "      <th>RF Accuracy</th>\n",
       "      <th>KNN Accuracy</th>\n",
       "      <th>NB Accuracy</th>\n",
       "      <th>AB Accuracy</th>\n",
       "    </tr>\n",
       "  </thead>\n",
       "  <tbody>\n",
       "    <tr>\n",
       "      <th>0</th>\n",
       "      <td>canny</td>\n",
       "      <td>0.820004</td>\n",
       "      <td>0.816700</td>\n",
       "      <td>0.756114</td>\n",
       "      <td>0.808108</td>\n",
       "      <td>0.755232</td>\n",
       "      <td>0.723948</td>\n",
       "      <td>0.817361</td>\n",
       "    </tr>\n",
       "    <tr>\n",
       "      <th>1</th>\n",
       "      <td>clahe</td>\n",
       "      <td>0.868574</td>\n",
       "      <td>0.880918</td>\n",
       "      <td>0.810340</td>\n",
       "      <td>0.878885</td>\n",
       "      <td>0.787104</td>\n",
       "      <td>0.843596</td>\n",
       "      <td>0.860587</td>\n",
       "    </tr>\n",
       "    <tr>\n",
       "      <th>2</th>\n",
       "      <td>scharr</td>\n",
       "      <td>0.811300</td>\n",
       "      <td>0.816659</td>\n",
       "      <td>0.748548</td>\n",
       "      <td>0.807057</td>\n",
       "      <td>0.754801</td>\n",
       "      <td>0.736266</td>\n",
       "      <td>0.809736</td>\n",
       "    </tr>\n",
       "    <tr>\n",
       "      <th>3</th>\n",
       "      <td>sobel</td>\n",
       "      <td>0.798235</td>\n",
       "      <td>0.805170</td>\n",
       "      <td>0.768600</td>\n",
       "      <td>0.801177</td>\n",
       "      <td>0.763136</td>\n",
       "      <td>0.746112</td>\n",
       "      <td>0.800546</td>\n",
       "    </tr>\n",
       "  </tbody>\n",
       "</table>\n",
       "</div>"
      ],
      "text/plain": [
       "  Feature Type  Logistic Accuracy  SVM Accuracy  DT Accuracy  RF Accuracy  \\\n",
       "0        canny           0.820004      0.816700     0.756114     0.808108   \n",
       "1        clahe           0.868574      0.880918     0.810340     0.878885   \n",
       "2       scharr           0.811300      0.816659     0.748548     0.807057   \n",
       "3        sobel           0.798235      0.805170     0.768600     0.801177   \n",
       "\n",
       "   KNN Accuracy  NB Accuracy  AB Accuracy  \n",
       "0      0.755232     0.723948     0.817361  \n",
       "1      0.787104     0.843596     0.860587  \n",
       "2      0.754801     0.736266     0.809736  \n",
       "3      0.763136     0.746112     0.800546  "
      ]
     },
     "execution_count": 46,
     "metadata": {},
     "output_type": "execute_result"
    }
   ],
   "source": [
    "%%time\n",
    "ll = ['canny', 'clahe', 'scharr', 'sobel']\n",
    "log_acc = []\n",
    "svc_acc = []\n",
    "dt_acc = []\n",
    "rf_acc = []\n",
    "knn_acc = []\n",
    "nb_acc = []\n",
    "ab_acc = []\n",
    "for idx, itr in enumerate(ll):\n",
    "    LF = LocalFeature(feature_type = 'SIFT', cluster_size = 50, test_size = 0.25, image_type = 'filtered')\n",
    "    if itr == 'canny':\n",
    "        data = preprocessing.canny_preprocessing(gray_image, 27558)\n",
    "    elif itr == 'clahe':\n",
    "        data = preprocessing.clahe_preprocessing(gray_image, 27558)\n",
    "    elif itr == 'scharr':\n",
    "        data = preprocessing.scharr_preprocessing(gray_image, 27558)\n",
    "    elif itr == 'sobel':\n",
    "        data = preprocessing.sobel_preprocessing(gray_image, 27558)\n",
    "    img = preprocessing.resize_image(data, 27558, 64)\n",
    "    x_train, x_test, y_train, y_test = LF.fit(img)\n",
    "    log_acc.append(LogisticModel(x_train, x_test, y_train, y_test))\n",
    "    svc_acc.append(SVMModel(x_train, x_test, y_train, y_test))\n",
    "    dt_acc.append(DTModel(x_train, x_test, y_train, y_test))\n",
    "    rf_acc.append(random_forest(x_train, x_test, y_train, y_test))\n",
    "    knn_acc.append(k_nearest_neighbors(x_train, x_test, y_train, y_test))\n",
    "    nb_acc.append(naive_bayes(x_train, x_test, y_train, y_test))\n",
    "    ab_acc.append(ada_boost(x_train, x_test, y_train, y_test))\n",
    "    # print(\"For Preprocessing :\", ll)\n",
    "    # print(\"Logistic Accuracy :\", log_acc[idx])\n",
    "    # print(\"SVM Accuracy\", svc_acc[idx])\n",
    "    \n",
    "    \n",
    "df = pd.DataFrame({'Feature Type' : ll , \"Logistic Accuracy\" : log_acc, \"SVM Accuracy\": svc_acc, \"DT Accuracy\": dt_acc, \"RF Accuracy\": rf_acc, \"KNN Accuracy\": knn_acc, \"NB Accuracy\": nb_acc, \"AB Accuracy\": ab_acc})\n",
    "df"
   ]
  },
  {
   "cell_type": "code",
   "execution_count": 47,
   "id": "2b82c909",
   "metadata": {},
   "outputs": [
    {
     "name": "stdout",
     "output_type": "stream",
     "text": [
      "21234 21234\n"
     ]
    },
    {
     "name": "stderr",
     "output_type": "stream",
     "text": [
      "d:\\Vivek\\Python\\lib\\site-packages\\sklearn\\cluster\\_kmeans.py:1416: FutureWarning: The default value of `n_init` will change from 10 to 'auto' in 1.4. Set the value of `n_init` explicitly to suppress the warning\n",
      "  super()._check_params_vs_input(X, default_n_init=10)\n"
     ]
    },
    {
     "name": "stdout",
     "output_type": "stream",
     "text": [
      "27558 27558\n"
     ]
    },
    {
     "name": "stderr",
     "output_type": "stream",
     "text": [
      "d:\\Vivek\\Python\\lib\\site-packages\\sklearn\\cluster\\_kmeans.py:1416: FutureWarning: The default value of `n_init` will change from 10 to 'auto' in 1.4. Set the value of `n_init` explicitly to suppress the warning\n",
      "  super()._check_params_vs_input(X, default_n_init=10)\n"
     ]
    },
    {
     "name": "stdout",
     "output_type": "stream",
     "text": [
      "26555 26555\n"
     ]
    },
    {
     "name": "stderr",
     "output_type": "stream",
     "text": [
      "d:\\Vivek\\Python\\lib\\site-packages\\sklearn\\cluster\\_kmeans.py:1416: FutureWarning: The default value of `n_init` will change from 10 to 'auto' in 1.4. Set the value of `n_init` explicitly to suppress the warning\n",
      "  super()._check_params_vs_input(X, default_n_init=10)\n"
     ]
    },
    {
     "name": "stdout",
     "output_type": "stream",
     "text": [
      "26630 26630\n"
     ]
    },
    {
     "name": "stderr",
     "output_type": "stream",
     "text": [
      "d:\\Vivek\\Python\\lib\\site-packages\\sklearn\\cluster\\_kmeans.py:1416: FutureWarning: The default value of `n_init` will change from 10 to 'auto' in 1.4. Set the value of `n_init` explicitly to suppress the warning\n",
      "  super()._check_params_vs_input(X, default_n_init=10)\n"
     ]
    },
    {
     "name": "stdout",
     "output_type": "stream",
     "text": [
      "CPU times: total: 21min 28s\n",
      "Wall time: 20min 54s\n"
     ]
    },
    {
     "data": {
      "text/html": [
       "<div>\n",
       "<style scoped>\n",
       "    .dataframe tbody tr th:only-of-type {\n",
       "        vertical-align: middle;\n",
       "    }\n",
       "\n",
       "    .dataframe tbody tr th {\n",
       "        vertical-align: top;\n",
       "    }\n",
       "\n",
       "    .dataframe thead th {\n",
       "        text-align: right;\n",
       "    }\n",
       "</style>\n",
       "<table border=\"1\" class=\"dataframe\">\n",
       "  <thead>\n",
       "    <tr style=\"text-align: right;\">\n",
       "      <th></th>\n",
       "      <th>Feature Type</th>\n",
       "      <th>Logistic Accuracy</th>\n",
       "      <th>SVM Accuracy</th>\n",
       "      <th>DT Accuracy</th>\n",
       "      <th>RF Accuracy</th>\n",
       "      <th>KNN Accuracy</th>\n",
       "      <th>NB Accuracy</th>\n",
       "      <th>AB Accuracy</th>\n",
       "    </tr>\n",
       "  </thead>\n",
       "  <tbody>\n",
       "    <tr>\n",
       "      <th>0</th>\n",
       "      <td>canny</td>\n",
       "      <td>0.746092</td>\n",
       "      <td>0.749294</td>\n",
       "      <td>0.742324</td>\n",
       "      <td>0.745150</td>\n",
       "      <td>0.722547</td>\n",
       "      <td>0.551705</td>\n",
       "      <td>0.749670</td>\n",
       "    </tr>\n",
       "    <tr>\n",
       "      <th>1</th>\n",
       "      <td>clahe</td>\n",
       "      <td>0.784180</td>\n",
       "      <td>0.796662</td>\n",
       "      <td>0.792598</td>\n",
       "      <td>0.794630</td>\n",
       "      <td>0.764731</td>\n",
       "      <td>0.761103</td>\n",
       "      <td>0.785486</td>\n",
       "    </tr>\n",
       "    <tr>\n",
       "      <th>2</th>\n",
       "      <td>scharr</td>\n",
       "      <td>0.690465</td>\n",
       "      <td>0.696641</td>\n",
       "      <td>0.690164</td>\n",
       "      <td>0.691219</td>\n",
       "      <td>0.644675</td>\n",
       "      <td>0.668173</td>\n",
       "      <td>0.690465</td>\n",
       "    </tr>\n",
       "    <tr>\n",
       "      <th>3</th>\n",
       "      <td>sobel</td>\n",
       "      <td>0.685792</td>\n",
       "      <td>0.691349</td>\n",
       "      <td>0.686993</td>\n",
       "      <td>0.688795</td>\n",
       "      <td>0.635626</td>\n",
       "      <td>0.660108</td>\n",
       "      <td>0.686092</td>\n",
       "    </tr>\n",
       "  </tbody>\n",
       "</table>\n",
       "</div>"
      ],
      "text/plain": [
       "  Feature Type  Logistic Accuracy  SVM Accuracy  DT Accuracy  RF Accuracy  \\\n",
       "0        canny           0.746092      0.749294     0.742324     0.745150   \n",
       "1        clahe           0.784180      0.796662     0.792598     0.794630   \n",
       "2       scharr           0.690465      0.696641     0.690164     0.691219   \n",
       "3        sobel           0.685792      0.691349     0.686993     0.688795   \n",
       "\n",
       "   KNN Accuracy  NB Accuracy  AB Accuracy  \n",
       "0      0.722547     0.551705     0.749670  \n",
       "1      0.764731     0.761103     0.785486  \n",
       "2      0.644675     0.668173     0.690465  \n",
       "3      0.635626     0.660108     0.686092  "
      ]
     },
     "execution_count": 47,
     "metadata": {},
     "output_type": "execute_result"
    }
   ],
   "source": [
    "%%time\n",
    "ll = ['canny', 'clahe', 'scharr', 'sobel']\n",
    "log_acc = []\n",
    "svc_acc = []\n",
    "dt_acc = []\n",
    "rf_acc = []\n",
    "knn_acc = []\n",
    "nb_acc = []\n",
    "ab_acc = []\n",
    "for idx, itr in enumerate(ll):\n",
    "    LF = LocalFeature(feature_type = 'KAZE', cluster_size = 20, test_size = 0.25, image_type = 'filtered')\n",
    "    if itr == 'canny':\n",
    "        data = preprocessing.canny_preprocessing(gray_image, 27558)\n",
    "    elif itr == 'clahe':\n",
    "        data = preprocessing.clahe_preprocessing(gray_image, 27558)\n",
    "    elif itr == 'scharr':\n",
    "        data = preprocessing.scharr_preprocessing(gray_image, 27558)\n",
    "    elif itr == 'sobel':\n",
    "        data = preprocessing.sobel_preprocessing(gray_image, 27558)\n",
    "    img = preprocessing.resize_image(data, 27558, 64)\n",
    "    x_train, x_test, y_train, y_test = LF.fit(img)\n",
    "    log_acc.append(LogisticModel(x_train, x_test, y_train, y_test))\n",
    "    svc_acc.append(SVMModel(x_train, x_test, y_train, y_test))\n",
    "    dt_acc.append(DTModel(x_train, x_test, y_train, y_test))\n",
    "    rf_acc.append(random_forest(x_train, x_test, y_train, y_test))\n",
    "    knn_acc.append(k_nearest_neighbors(x_train, x_test, y_train, y_test))\n",
    "    nb_acc.append(naive_bayes(x_train, x_test, y_train, y_test))\n",
    "    ab_acc.append(ada_boost(x_train, x_test, y_train, y_test))\n",
    "    # print(\"For Preprocessing :\", ll)\n",
    "    # print(\"Logistic Accuracy :\", log_acc[idx])\n",
    "    # print(\"SVM Accuracy\", svc_acc[idx])\n",
    "    \n",
    "    \n",
    "df = pd.DataFrame({'Feature Type' : ll , \"Logistic Accuracy\" : log_acc, \"SVM Accuracy\": svc_acc, \"DT Accuracy\": dt_acc, \"RF Accuracy\": rf_acc, \"KNN Accuracy\": knn_acc, \"NB Accuracy\": nb_acc, \"AB Accuracy\": ab_acc})\n",
    "df"
   ]
  },
  {
   "cell_type": "markdown",
   "id": "ba95da22",
   "metadata": {},
   "source": [
    "<h1>Grid Search CV"
   ]
  },
  {
   "cell_type": "code",
   "execution_count": 48,
   "id": "ad713b1f",
   "metadata": {},
   "outputs": [],
   "source": [
    "grid_search_df = pd.DataFrame(columns = ['Accuracy', 'Precision', 'Recall','F1'], \n",
    "                   index = ['SIFT BOVW', 'canny', 'clahe', 'scharr', 'sobel'])"
   ]
  },
  {
   "cell_type": "code",
   "execution_count": 50,
   "id": "806d5a15",
   "metadata": {},
   "outputs": [
    {
     "name": "stdout",
     "output_type": "stream",
     "text": [
      "Fitting 5 folds for each of 20 candidates, totalling 100 fits\n",
      "[CV 1/5] END ...............C=0.01, kernel=poly;, score=0.790 total time= 1.3min\n",
      "[CV 2/5] END ...............C=0.01, kernel=poly;, score=0.780 total time= 1.3min\n",
      "[CV 3/5] END ...............C=0.01, kernel=poly;, score=0.789 total time= 1.3min\n",
      "[CV 4/5] END ...............C=0.01, kernel=poly;, score=0.787 total time= 1.4min\n",
      "[CV 5/5] END ...............C=0.01, kernel=poly;, score=0.796 total time= 1.6min\n",
      "[CV 1/5] END ................C=0.01, kernel=rbf;, score=0.796 total time= 1.4min\n",
      "[CV 2/5] END ................C=0.01, kernel=rbf;, score=0.799 total time= 1.3min\n",
      "[CV 3/5] END ................C=0.01, kernel=rbf;, score=0.800 total time= 1.2min\n",
      "[CV 4/5] END ................C=0.01, kernel=rbf;, score=0.796 total time= 1.1min\n",
      "[CV 5/5] END ................C=0.01, kernel=rbf;, score=0.805 total time= 1.4min\n",
      "[CV 1/5] END C=0.021544346900318832, kernel=poly;, score=0.786 total time=  58.9s\n",
      "[CV 2/5] END C=0.021544346900318832, kernel=poly;, score=0.775 total time= 1.1min\n",
      "[CV 3/5] END C=0.021544346900318832, kernel=poly;, score=0.781 total time= 1.3min\n",
      "[CV 4/5] END C=0.021544346900318832, kernel=poly;, score=0.778 total time= 1.4min\n",
      "[CV 5/5] END C=0.021544346900318832, kernel=poly;, score=0.792 total time= 1.6min\n",
      "[CV 1/5] END C=0.021544346900318832, kernel=rbf;, score=0.806 total time= 1.5min\n",
      "[CV 2/5] END C=0.021544346900318832, kernel=rbf;, score=0.811 total time= 2.6min\n",
      "[CV 3/5] END C=0.021544346900318832, kernel=rbf;, score=0.802 total time= 4.5min\n",
      "[CV 4/5] END C=0.021544346900318832, kernel=rbf;, score=0.800 total time= 2.9min\n",
      "[CV 5/5] END C=0.021544346900318832, kernel=rbf;, score=0.814 total time= 3.5min\n",
      "[CV 1/5] END C=0.046415888336127774, kernel=poly;, score=0.791 total time= 3.4min\n",
      "[CV 2/5] END C=0.046415888336127774, kernel=poly;, score=0.778 total time= 2.7min\n",
      "[CV 3/5] END C=0.046415888336127774, kernel=poly;, score=0.783 total time= 2.3min\n",
      "[CV 4/5] END C=0.046415888336127774, kernel=poly;, score=0.781 total time= 2.3min\n",
      "[CV 5/5] END C=0.046415888336127774, kernel=poly;, score=0.794 total time= 3.1min\n",
      "[CV 1/5] END C=0.046415888336127774, kernel=rbf;, score=0.819 total time= 2.7min\n",
      "[CV 2/5] END C=0.046415888336127774, kernel=rbf;, score=0.826 total time= 2.4min\n",
      "[CV 3/5] END C=0.046415888336127774, kernel=rbf;, score=0.817 total time= 2.2min\n",
      "[CV 4/5] END C=0.046415888336127774, kernel=rbf;, score=0.812 total time= 1.7min\n",
      "[CV 5/5] END C=0.046415888336127774, kernel=rbf;, score=0.832 total time= 1.6min\n",
      "[CV 1/5] END ................C=0.1, kernel=poly;, score=0.799 total time= 1.4min\n",
      "[CV 2/5] END ................C=0.1, kernel=poly;, score=0.789 total time= 1.8min\n",
      "[CV 3/5] END ................C=0.1, kernel=poly;, score=0.790 total time= 1.6min\n",
      "[CV 4/5] END ................C=0.1, kernel=poly;, score=0.789 total time= 2.0min\n",
      "[CV 5/5] END ................C=0.1, kernel=poly;, score=0.801 total time= 1.4min\n",
      "[CV 1/5] END .................C=0.1, kernel=rbf;, score=0.835 total time= 3.2min\n",
      "[CV 2/5] END .................C=0.1, kernel=rbf;, score=0.842 total time= 3.1min\n",
      "[CV 3/5] END .................C=0.1, kernel=rbf;, score=0.832 total time= 1.7min\n",
      "[CV 4/5] END .................C=0.1, kernel=rbf;, score=0.831 total time= 2.2min\n",
      "[CV 5/5] END .................C=0.1, kernel=rbf;, score=0.843 total time= 2.0min\n",
      "[CV 1/5] END C=0.21544346900318834, kernel=poly;, score=0.808 total time= 1.8min\n",
      "[CV 2/5] END C=0.21544346900318834, kernel=poly;, score=0.798 total time= 2.2min\n",
      "[CV 3/5] END C=0.21544346900318834, kernel=poly;, score=0.798 total time= 1.8min\n",
      "[CV 4/5] END C=0.21544346900318834, kernel=poly;, score=0.797 total time= 2.0min\n",
      "[CV 5/5] END C=0.21544346900318834, kernel=poly;, score=0.806 total time= 2.0min\n",
      "[CV 1/5] END .C=0.21544346900318834, kernel=rbf;, score=0.845 total time= 1.8min\n",
      "[CV 2/5] END .C=0.21544346900318834, kernel=rbf;, score=0.853 total time= 1.7min\n",
      "[CV 3/5] END .C=0.21544346900318834, kernel=rbf;, score=0.843 total time= 1.8min\n",
      "[CV 4/5] END .C=0.21544346900318834, kernel=rbf;, score=0.841 total time= 1.8min\n",
      "[CV 5/5] END .C=0.21544346900318834, kernel=rbf;, score=0.852 total time= 2.0min\n",
      "[CV 1/5] END C=0.46415888336127775, kernel=poly;, score=0.815 total time= 2.0min\n",
      "[CV 2/5] END C=0.46415888336127775, kernel=poly;, score=0.806 total time= 1.9min\n",
      "[CV 3/5] END C=0.46415888336127775, kernel=poly;, score=0.805 total time= 2.0min\n",
      "[CV 4/5] END C=0.46415888336127775, kernel=poly;, score=0.800 total time= 2.4min\n",
      "[CV 5/5] END C=0.46415888336127775, kernel=poly;, score=0.816 total time= 2.5min\n",
      "[CV 1/5] END .C=0.46415888336127775, kernel=rbf;, score=0.852 total time= 2.4min\n",
      "[CV 2/5] END .C=0.46415888336127775, kernel=rbf;, score=0.856 total time= 2.4min\n",
      "[CV 3/5] END .C=0.46415888336127775, kernel=rbf;, score=0.849 total time= 2.0min\n",
      "[CV 4/5] END .C=0.46415888336127775, kernel=rbf;, score=0.849 total time= 2.2min\n",
      "[CV 5/5] END .C=0.46415888336127775, kernel=rbf;, score=0.862 total time= 2.1min\n",
      "[CV 1/5] END ................C=1.0, kernel=poly;, score=0.817 total time= 2.0min\n",
      "[CV 2/5] END ................C=1.0, kernel=poly;, score=0.811 total time= 2.0min\n",
      "[CV 3/5] END ................C=1.0, kernel=poly;, score=0.811 total time= 1.9min\n",
      "[CV 4/5] END ................C=1.0, kernel=poly;, score=0.806 total time= 2.0min\n",
      "[CV 5/5] END ................C=1.0, kernel=poly;, score=0.826 total time= 2.1min\n",
      "[CV 1/5] END .................C=1.0, kernel=rbf;, score=0.860 total time= 1.8min\n",
      "[CV 2/5] END .................C=1.0, kernel=rbf;, score=0.859 total time= 2.0min\n",
      "[CV 3/5] END .................C=1.0, kernel=rbf;, score=0.854 total time= 2.0min\n",
      "[CV 4/5] END .................C=1.0, kernel=rbf;, score=0.855 total time= 2.1min\n",
      "[CV 5/5] END .................C=1.0, kernel=rbf;, score=0.866 total time= 2.0min\n",
      "[CV 1/5] END ..C=2.154434690031882, kernel=poly;, score=0.821 total time= 2.1min\n",
      "[CV 2/5] END ..C=2.154434690031882, kernel=poly;, score=0.817 total time= 2.2min\n",
      "[CV 3/5] END ..C=2.154434690031882, kernel=poly;, score=0.817 total time= 2.3min\n",
      "[CV 4/5] END ..C=2.154434690031882, kernel=poly;, score=0.809 total time= 2.1min\n",
      "[CV 5/5] END ..C=2.154434690031882, kernel=poly;, score=0.832 total time= 2.1min\n",
      "[CV 1/5] END ...C=2.154434690031882, kernel=rbf;, score=0.864 total time= 1.8min\n",
      "[CV 2/5] END ...C=2.154434690031882, kernel=rbf;, score=0.863 total time= 1.9min\n",
      "[CV 3/5] END ...C=2.154434690031882, kernel=rbf;, score=0.861 total time= 1.8min\n",
      "[CV 4/5] END ...C=2.154434690031882, kernel=rbf;, score=0.858 total time= 1.9min\n",
      "[CV 5/5] END ...C=2.154434690031882, kernel=rbf;, score=0.871 total time= 1.8min\n",
      "[CV 1/5] END .C=4.6415888336127775, kernel=poly;, score=0.829 total time= 2.3min\n",
      "[CV 2/5] END .C=4.6415888336127775, kernel=poly;, score=0.819 total time= 2.5min\n",
      "[CV 3/5] END .C=4.6415888336127775, kernel=poly;, score=0.818 total time= 2.4min\n",
      "[CV 4/5] END .C=4.6415888336127775, kernel=poly;, score=0.812 total time= 2.5min\n",
      "[CV 5/5] END .C=4.6415888336127775, kernel=poly;, score=0.836 total time= 2.9min\n",
      "[CV 1/5] END ..C=4.6415888336127775, kernel=rbf;, score=0.867 total time= 1.8min\n",
      "[CV 2/5] END ..C=4.6415888336127775, kernel=rbf;, score=0.864 total time= 1.6min\n",
      "[CV 3/5] END ..C=4.6415888336127775, kernel=rbf;, score=0.862 total time= 1.1min\n",
      "[CV 4/5] END ..C=4.6415888336127775, kernel=rbf;, score=0.861 total time= 1.1min\n",
      "[CV 5/5] END ..C=4.6415888336127775, kernel=rbf;, score=0.874 total time= 1.5min\n",
      "[CV 1/5] END ...............C=10.0, kernel=poly;, score=0.832 total time= 2.9min\n",
      "[CV 2/5] END ...............C=10.0, kernel=poly;, score=0.824 total time= 2.5min\n",
      "[CV 3/5] END ...............C=10.0, kernel=poly;, score=0.823 total time= 1.5min\n",
      "[CV 4/5] END ...............C=10.0, kernel=poly;, score=0.818 total time= 1.8min\n",
      "[CV 5/5] END ...............C=10.0, kernel=poly;, score=0.839 total time= 1.7min\n",
      "[CV 1/5] END ................C=10.0, kernel=rbf;, score=0.867 total time= 1.0min\n",
      "[CV 2/5] END ................C=10.0, kernel=rbf;, score=0.866 total time=  54.2s\n",
      "[CV 3/5] END ................C=10.0, kernel=rbf;, score=0.863 total time= 1.0min\n",
      "[CV 4/5] END ................C=10.0, kernel=rbf;, score=0.863 total time=  54.5s\n",
      "[CV 5/5] END ................C=10.0, kernel=rbf;, score=0.875 total time= 1.1min\n",
      "Successfully saved features\n",
      "Training Done for : canny\n",
      "Fitting 5 folds for each of 20 candidates, totalling 100 fits\n",
      "[CV 1/5] END ...............C=0.01, kernel=poly;, score=0.697 total time= 1.2min\n",
      "[CV 2/5] END ...............C=0.01, kernel=poly;, score=0.714 total time= 1.1min\n",
      "[CV 3/5] END ...............C=0.01, kernel=poly;, score=0.687 total time= 1.3min\n",
      "[CV 4/5] END ...............C=0.01, kernel=poly;, score=0.694 total time= 1.6min\n",
      "[CV 5/5] END ...............C=0.01, kernel=poly;, score=0.690 total time= 2.0min\n",
      "[CV 1/5] END ................C=0.01, kernel=rbf;, score=0.789 total time= 2.8min\n",
      "[CV 2/5] END ................C=0.01, kernel=rbf;, score=0.788 total time= 2.7min\n",
      "[CV 3/5] END ................C=0.01, kernel=rbf;, score=0.794 total time= 2.6min\n",
      "[CV 4/5] END ................C=0.01, kernel=rbf;, score=0.794 total time= 2.3min\n",
      "[CV 5/5] END ................C=0.01, kernel=rbf;, score=0.795 total time= 2.1min\n",
      "[CV 1/5] END C=0.021544346900318832, kernel=poly;, score=0.719 total time= 1.4min\n",
      "[CV 2/5] END C=0.021544346900318832, kernel=poly;, score=0.761 total time= 1.8min\n",
      "[CV 3/5] END C=0.021544346900318832, kernel=poly;, score=0.711 total time= 1.5min\n",
      "[CV 4/5] END C=0.021544346900318832, kernel=poly;, score=0.720 total time= 1.5min\n",
      "[CV 5/5] END C=0.021544346900318832, kernel=poly;, score=0.718 total time= 1.8min\n",
      "[CV 1/5] END C=0.021544346900318832, kernel=rbf;, score=0.797 total time= 1.8min\n",
      "[CV 2/5] END C=0.021544346900318832, kernel=rbf;, score=0.791 total time= 1.7min\n",
      "[CV 3/5] END C=0.021544346900318832, kernel=rbf;, score=0.800 total time= 2.0min\n",
      "[CV 4/5] END C=0.021544346900318832, kernel=rbf;, score=0.801 total time= 1.8min\n",
      "[CV 5/5] END C=0.021544346900318832, kernel=rbf;, score=0.795 total time= 2.1min\n",
      "[CV 1/5] END C=0.046415888336127774, kernel=poly;, score=0.770 total time= 1.5min\n",
      "[CV 2/5] END C=0.046415888336127774, kernel=poly;, score=0.795 total time= 1.6min\n",
      "[CV 3/5] END C=0.046415888336127774, kernel=poly;, score=0.767 total time= 1.5min\n",
      "[CV 4/5] END C=0.046415888336127774, kernel=poly;, score=0.781 total time= 1.3min\n",
      "[CV 5/5] END C=0.046415888336127774, kernel=poly;, score=0.757 total time= 1.4min\n",
      "[CV 1/5] END C=0.046415888336127774, kernel=rbf;, score=0.804 total time= 1.5min\n",
      "[CV 2/5] END C=0.046415888336127774, kernel=rbf;, score=0.796 total time= 1.4min\n",
      "[CV 3/5] END C=0.046415888336127774, kernel=rbf;, score=0.809 total time= 1.4min\n",
      "[CV 4/5] END C=0.046415888336127774, kernel=rbf;, score=0.806 total time= 1.5min\n",
      "[CV 5/5] END C=0.046415888336127774, kernel=rbf;, score=0.800 total time= 1.4min\n",
      "[CV 1/5] END ................C=0.1, kernel=poly;, score=0.800 total time= 1.0min\n",
      "[CV 2/5] END ................C=0.1, kernel=poly;, score=0.800 total time= 1.0min\n",
      "[CV 3/5] END ................C=0.1, kernel=poly;, score=0.799 total time=  59.2s\n",
      "[CV 4/5] END ................C=0.1, kernel=poly;, score=0.797 total time=  57.8s\n",
      "[CV 5/5] END ................C=0.1, kernel=poly;, score=0.792 total time=  59.9s\n",
      "[CV 1/5] END .................C=0.1, kernel=rbf;, score=0.813 total time= 1.1min\n",
      "[CV 2/5] END .................C=0.1, kernel=rbf;, score=0.804 total time= 1.2min\n",
      "[CV 3/5] END .................C=0.1, kernel=rbf;, score=0.813 total time= 1.2min\n",
      "[CV 4/5] END .................C=0.1, kernel=rbf;, score=0.814 total time= 1.0min\n",
      "[CV 5/5] END .................C=0.1, kernel=rbf;, score=0.805 total time= 1.2min\n",
      "[CV 1/5] END C=0.21544346900318834, kernel=poly;, score=0.809 total time= 1.3min\n",
      "[CV 2/5] END C=0.21544346900318834, kernel=poly;, score=0.803 total time= 1.0min\n",
      "[CV 3/5] END C=0.21544346900318834, kernel=poly;, score=0.800 total time= 1.2min\n",
      "[CV 4/5] END C=0.21544346900318834, kernel=poly;, score=0.799 total time= 1.3min\n",
      "[CV 5/5] END C=0.21544346900318834, kernel=poly;, score=0.798 total time= 1.3min\n",
      "[CV 1/5] END .C=0.21544346900318834, kernel=rbf;, score=0.825 total time= 1.4min\n",
      "[CV 2/5] END .C=0.21544346900318834, kernel=rbf;, score=0.816 total time= 1.5min\n",
      "[CV 3/5] END .C=0.21544346900318834, kernel=rbf;, score=0.823 total time= 1.4min\n",
      "[CV 4/5] END .C=0.21544346900318834, kernel=rbf;, score=0.826 total time= 1.2min\n",
      "[CV 5/5] END .C=0.21544346900318834, kernel=rbf;, score=0.819 total time= 1.3min\n",
      "[CV 1/5] END C=0.46415888336127775, kernel=poly;, score=0.816 total time= 1.4min\n",
      "[CV 2/5] END C=0.46415888336127775, kernel=poly;, score=0.806 total time= 1.3min\n",
      "[CV 3/5] END C=0.46415888336127775, kernel=poly;, score=0.806 total time= 1.4min\n",
      "[CV 4/5] END C=0.46415888336127775, kernel=poly;, score=0.807 total time= 1.5min\n",
      "[CV 5/5] END C=0.46415888336127775, kernel=poly;, score=0.805 total time= 1.1min\n",
      "[CV 1/5] END .C=0.46415888336127775, kernel=rbf;, score=0.842 total time= 1.1min\n",
      "[CV 2/5] END .C=0.46415888336127775, kernel=rbf;, score=0.831 total time= 1.1min\n",
      "[CV 3/5] END .C=0.46415888336127775, kernel=rbf;, score=0.839 total time= 1.0min\n",
      "[CV 4/5] END .C=0.46415888336127775, kernel=rbf;, score=0.838 total time= 1.1min\n",
      "[CV 5/5] END .C=0.46415888336127775, kernel=rbf;, score=0.831 total time= 1.1min\n",
      "[CV 1/5] END ................C=1.0, kernel=poly;, score=0.820 total time= 1.1min\n",
      "[CV 2/5] END ................C=1.0, kernel=poly;, score=0.807 total time= 1.1min\n",
      "[CV 3/5] END ................C=1.0, kernel=poly;, score=0.809 total time=  57.6s\n",
      "[CV 4/5] END ................C=1.0, kernel=poly;, score=0.810 total time=  56.0s\n",
      "[CV 5/5] END ................C=1.0, kernel=poly;, score=0.806 total time=  59.3s\n",
      "[CV 1/5] END .................C=1.0, kernel=rbf;, score=0.854 total time=  53.1s\n",
      "[CV 2/5] END .................C=1.0, kernel=rbf;, score=0.841 total time=  51.9s\n",
      "[CV 3/5] END .................C=1.0, kernel=rbf;, score=0.853 total time=  53.7s\n",
      "[CV 4/5] END .................C=1.0, kernel=rbf;, score=0.847 total time=  53.1s\n",
      "[CV 5/5] END .................C=1.0, kernel=rbf;, score=0.843 total time=  53.8s\n",
      "[CV 1/5] END ..C=2.154434690031882, kernel=poly;, score=0.821 total time= 1.0min\n",
      "[CV 2/5] END ..C=2.154434690031882, kernel=poly;, score=0.809 total time= 1.0min\n",
      "[CV 3/5] END ..C=2.154434690031882, kernel=poly;, score=0.815 total time=  57.2s\n",
      "[CV 4/5] END ..C=2.154434690031882, kernel=poly;, score=0.815 total time=  56.7s\n",
      "[CV 5/5] END ..C=2.154434690031882, kernel=poly;, score=0.808 total time=  57.9s\n",
      "[CV 1/5] END ...C=2.154434690031882, kernel=rbf;, score=0.860 total time=  49.8s\n",
      "[CV 2/5] END ...C=2.154434690031882, kernel=rbf;, score=0.848 total time=  48.4s\n",
      "[CV 3/5] END ...C=2.154434690031882, kernel=rbf;, score=0.856 total time=  49.7s\n",
      "[CV 4/5] END ...C=2.154434690031882, kernel=rbf;, score=0.858 total time=  50.0s\n",
      "[CV 5/5] END ...C=2.154434690031882, kernel=rbf;, score=0.853 total time=  50.3s\n",
      "[CV 1/5] END .C=4.6415888336127775, kernel=poly;, score=0.827 total time= 1.0min\n",
      "[CV 2/5] END .C=4.6415888336127775, kernel=poly;, score=0.813 total time= 1.1min\n",
      "[CV 3/5] END .C=4.6415888336127775, kernel=poly;, score=0.818 total time= 1.0min\n",
      "[CV 4/5] END .C=4.6415888336127775, kernel=poly;, score=0.815 total time=  59.3s\n",
      "[CV 5/5] END .C=4.6415888336127775, kernel=poly;, score=0.813 total time= 1.1min\n",
      "[CV 1/5] END ..C=4.6415888336127775, kernel=rbf;, score=0.866 total time=  48.5s\n",
      "[CV 2/5] END ..C=4.6415888336127775, kernel=rbf;, score=0.852 total time=  48.8s\n",
      "[CV 3/5] END ..C=4.6415888336127775, kernel=rbf;, score=0.861 total time=  48.6s\n",
      "[CV 4/5] END ..C=4.6415888336127775, kernel=rbf;, score=0.864 total time=  51.0s\n",
      "[CV 5/5] END ..C=4.6415888336127775, kernel=rbf;, score=0.856 total time=  50.9s\n",
      "[CV 1/5] END ...............C=10.0, kernel=poly;, score=0.833 total time= 1.2min\n",
      "[CV 2/5] END ...............C=10.0, kernel=poly;, score=0.814 total time= 1.4min\n",
      "[CV 3/5] END ...............C=10.0, kernel=poly;, score=0.821 total time= 1.2min\n",
      "[CV 4/5] END ...............C=10.0, kernel=poly;, score=0.823 total time= 1.1min\n",
      "[CV 5/5] END ...............C=10.0, kernel=poly;, score=0.817 total time= 1.2min\n",
      "[CV 1/5] END ................C=10.0, kernel=rbf;, score=0.867 total time=  50.5s\n",
      "[CV 2/5] END ................C=10.0, kernel=rbf;, score=0.849 total time=  48.9s\n",
      "[CV 3/5] END ................C=10.0, kernel=rbf;, score=0.860 total time=  49.2s\n",
      "[CV 4/5] END ................C=10.0, kernel=rbf;, score=0.865 total time=  49.3s\n",
      "[CV 5/5] END ................C=10.0, kernel=rbf;, score=0.860 total time=  49.7s\n",
      "Successfully saved features\n",
      "Training Done for : clahe\n",
      "Fitting 5 folds for each of 20 candidates, totalling 100 fits\n",
      "[CV 1/5] END ...............C=0.01, kernel=poly;, score=0.744 total time= 1.0min\n",
      "[CV 2/5] END ...............C=0.01, kernel=poly;, score=0.735 total time= 1.1min\n",
      "[CV 3/5] END ...............C=0.01, kernel=poly;, score=0.743 total time= 1.0min\n",
      "[CV 4/5] END ...............C=0.01, kernel=poly;, score=0.750 total time= 1.0min\n",
      "[CV 5/5] END ...............C=0.01, kernel=poly;, score=0.749 total time= 1.0min\n",
      "[CV 1/5] END ................C=0.01, kernel=rbf;, score=0.850 total time= 1.1min\n",
      "[CV 2/5] END ................C=0.01, kernel=rbf;, score=0.838 total time= 1.1min\n",
      "[CV 3/5] END ................C=0.01, kernel=rbf;, score=0.838 total time= 1.1min\n",
      "[CV 4/5] END ................C=0.01, kernel=rbf;, score=0.838 total time= 1.1min\n",
      "[CV 5/5] END ................C=0.01, kernel=rbf;, score=0.833 total time= 1.1min\n",
      "[CV 1/5] END C=0.021544346900318832, kernel=poly;, score=0.782 total time=  58.6s\n",
      "[CV 2/5] END C=0.021544346900318832, kernel=poly;, score=0.775 total time=  58.2s\n",
      "[CV 3/5] END C=0.021544346900318832, kernel=poly;, score=0.775 total time=  57.2s\n",
      "[CV 4/5] END C=0.021544346900318832, kernel=poly;, score=0.783 total time=  58.2s\n",
      "[CV 5/5] END C=0.021544346900318832, kernel=poly;, score=0.784 total time=  57.3s\n",
      "[CV 1/5] END C=0.021544346900318832, kernel=rbf;, score=0.861 total time=  59.9s\n",
      "[CV 2/5] END C=0.021544346900318832, kernel=rbf;, score=0.847 total time=  59.3s\n",
      "[CV 3/5] END C=0.021544346900318832, kernel=rbf;, score=0.844 total time=  59.0s\n",
      "[CV 4/5] END C=0.021544346900318832, kernel=rbf;, score=0.847 total time=  59.5s\n",
      "[CV 5/5] END C=0.021544346900318832, kernel=rbf;, score=0.847 total time=  59.4s\n",
      "[CV 1/5] END C=0.046415888336127774, kernel=poly;, score=0.811 total time=  54.9s\n",
      "[CV 2/5] END C=0.046415888336127774, kernel=poly;, score=0.802 total time=  57.5s\n",
      "[CV 3/5] END C=0.046415888336127774, kernel=poly;, score=0.800 total time=  57.2s\n",
      "[CV 4/5] END C=0.046415888336127774, kernel=poly;, score=0.808 total time=  58.5s\n",
      "[CV 5/5] END C=0.046415888336127774, kernel=poly;, score=0.810 total time=  56.5s\n",
      "[CV 1/5] END C=0.046415888336127774, kernel=rbf;, score=0.869 total time=  56.6s\n",
      "[CV 2/5] END C=0.046415888336127774, kernel=rbf;, score=0.855 total time=  56.0s\n",
      "[CV 3/5] END C=0.046415888336127774, kernel=rbf;, score=0.851 total time=  55.8s\n",
      "[CV 4/5] END C=0.046415888336127774, kernel=rbf;, score=0.852 total time=  56.9s\n",
      "[CV 5/5] END C=0.046415888336127774, kernel=rbf;, score=0.852 total time=  56.1s\n",
      "[CV 1/5] END ................C=0.1, kernel=poly;, score=0.826 total time=  54.4s\n",
      "[CV 2/5] END ................C=0.1, kernel=poly;, score=0.825 total time=  52.6s\n",
      "[CV 3/5] END ................C=0.1, kernel=poly;, score=0.822 total time=  52.4s\n",
      "[CV 4/5] END ................C=0.1, kernel=poly;, score=0.829 total time=  50.9s\n",
      "[CV 5/5] END ................C=0.1, kernel=poly;, score=0.832 total time=  51.3s\n",
      "[CV 1/5] END .................C=0.1, kernel=rbf;, score=0.876 total time=  50.3s\n",
      "[CV 2/5] END .................C=0.1, kernel=rbf;, score=0.862 total time=  50.1s\n",
      "[CV 3/5] END .................C=0.1, kernel=rbf;, score=0.859 total time=  49.5s\n",
      "[CV 4/5] END .................C=0.1, kernel=rbf;, score=0.860 total time=  50.2s\n",
      "[CV 5/5] END .................C=0.1, kernel=rbf;, score=0.860 total time=  50.0s\n",
      "[CV 1/5] END C=0.21544346900318834, kernel=poly;, score=0.845 total time=  53.0s\n",
      "[CV 2/5] END C=0.21544346900318834, kernel=poly;, score=0.843 total time=  50.0s\n",
      "[CV 3/5] END C=0.21544346900318834, kernel=poly;, score=0.842 total time=  51.0s\n",
      "[CV 4/5] END C=0.21544346900318834, kernel=poly;, score=0.845 total time=  50.1s\n",
      "[CV 5/5] END C=0.21544346900318834, kernel=poly;, score=0.843 total time=  51.9s\n",
      "[CV 1/5] END .C=0.21544346900318834, kernel=rbf;, score=0.881 total time=  48.3s\n",
      "[CV 2/5] END .C=0.21544346900318834, kernel=rbf;, score=0.870 total time=  48.2s\n",
      "[CV 3/5] END .C=0.21544346900318834, kernel=rbf;, score=0.871 total time=  48.4s\n",
      "[CV 4/5] END .C=0.21544346900318834, kernel=rbf;, score=0.873 total time=  48.8s\n",
      "[CV 5/5] END .C=0.21544346900318834, kernel=rbf;, score=0.870 total time=  46.4s\n",
      "[CV 1/5] END C=0.46415888336127775, kernel=poly;, score=0.868 total time=  49.3s\n",
      "[CV 2/5] END C=0.46415888336127775, kernel=poly;, score=0.856 total time=  48.7s\n",
      "[CV 3/5] END C=0.46415888336127775, kernel=poly;, score=0.846 total time=  48.5s\n",
      "[CV 4/5] END C=0.46415888336127775, kernel=poly;, score=0.851 total time=  46.8s\n",
      "[CV 5/5] END C=0.46415888336127775, kernel=poly;, score=0.849 total time=  50.0s\n",
      "[CV 1/5] END .C=0.46415888336127775, kernel=rbf;, score=0.892 total time=  44.6s\n",
      "[CV 2/5] END .C=0.46415888336127775, kernel=rbf;, score=0.881 total time=  43.8s\n",
      "[CV 3/5] END .C=0.46415888336127775, kernel=rbf;, score=0.884 total time=  43.8s\n",
      "[CV 4/5] END .C=0.46415888336127775, kernel=rbf;, score=0.885 total time=  43.4s\n",
      "[CV 5/5] END .C=0.46415888336127775, kernel=rbf;, score=0.881 total time=  44.4s\n",
      "[CV 1/5] END ................C=1.0, kernel=poly;, score=0.872 total time=  50.5s\n",
      "[CV 2/5] END ................C=1.0, kernel=poly;, score=0.864 total time=  52.6s\n",
      "[CV 3/5] END ................C=1.0, kernel=poly;, score=0.854 total time= 1.7min\n",
      "[CV 4/5] END ................C=1.0, kernel=poly;, score=0.859 total time= 1.8min\n",
      "[CV 5/5] END ................C=1.0, kernel=poly;, score=0.857 total time= 1.9min\n",
      "[CV 1/5] END .................C=1.0, kernel=rbf;, score=0.900 total time= 1.6min\n",
      "[CV 2/5] END .................C=1.0, kernel=rbf;, score=0.891 total time= 1.6min\n",
      "[CV 3/5] END .................C=1.0, kernel=rbf;, score=0.893 total time= 1.6min\n",
      "[CV 4/5] END .................C=1.0, kernel=rbf;, score=0.891 total time= 1.6min\n",
      "[CV 5/5] END .................C=1.0, kernel=rbf;, score=0.894 total time= 1.6min\n",
      "[CV 1/5] END ..C=2.154434690031882, kernel=poly;, score=0.874 total time= 2.0min\n",
      "[CV 2/5] END ..C=2.154434690031882, kernel=poly;, score=0.871 total time= 2.0min\n",
      "[CV 3/5] END ..C=2.154434690031882, kernel=poly;, score=0.863 total time= 2.0min\n",
      "[CV 4/5] END ..C=2.154434690031882, kernel=poly;, score=0.868 total time= 1.9min\n",
      "[CV 5/5] END ..C=2.154434690031882, kernel=poly;, score=0.862 total time= 2.0min\n",
      "[CV 1/5] END ...C=2.154434690031882, kernel=rbf;, score=0.906 total time= 1.5min\n",
      "[CV 2/5] END ...C=2.154434690031882, kernel=rbf;, score=0.900 total time= 1.5min\n",
      "[CV 3/5] END ...C=2.154434690031882, kernel=rbf;, score=0.895 total time= 1.5min\n",
      "[CV 4/5] END ...C=2.154434690031882, kernel=rbf;, score=0.893 total time= 1.5min\n",
      "[CV 5/5] END ...C=2.154434690031882, kernel=rbf;, score=0.898 total time= 1.5min\n",
      "[CV 1/5] END .C=4.6415888336127775, kernel=poly;, score=0.876 total time= 2.3min\n",
      "[CV 2/5] END .C=4.6415888336127775, kernel=poly;, score=0.873 total time= 2.2min\n",
      "[CV 3/5] END .C=4.6415888336127775, kernel=poly;, score=0.872 total time= 2.2min\n",
      "[CV 4/5] END .C=4.6415888336127775, kernel=poly;, score=0.872 total time= 2.2min\n",
      "[CV 5/5] END .C=4.6415888336127775, kernel=poly;, score=0.865 total time= 2.3min\n",
      "[CV 1/5] END ..C=4.6415888336127775, kernel=rbf;, score=0.909 total time= 1.5min\n",
      "[CV 2/5] END ..C=4.6415888336127775, kernel=rbf;, score=0.905 total time= 1.5min\n",
      "[CV 3/5] END ..C=4.6415888336127775, kernel=rbf;, score=0.900 total time= 1.5min\n",
      "[CV 4/5] END ..C=4.6415888336127775, kernel=rbf;, score=0.899 total time= 1.5min\n",
      "[CV 5/5] END ..C=4.6415888336127775, kernel=rbf;, score=0.902 total time= 1.5min\n",
      "[CV 1/5] END ...............C=10.0, kernel=poly;, score=0.882 total time= 2.7min\n",
      "[CV 2/5] END ...............C=10.0, kernel=poly;, score=0.880 total time= 2.7min\n",
      "[CV 3/5] END ...............C=10.0, kernel=poly;, score=0.877 total time= 2.7min\n",
      "[CV 4/5] END ...............C=10.0, kernel=poly;, score=0.879 total time= 2.6min\n",
      "[CV 5/5] END ...............C=10.0, kernel=poly;, score=0.870 total time= 2.6min\n",
      "[CV 1/5] END ................C=10.0, kernel=rbf;, score=0.909 total time= 1.5min\n",
      "[CV 2/5] END ................C=10.0, kernel=rbf;, score=0.906 total time= 1.6min\n",
      "[CV 3/5] END ................C=10.0, kernel=rbf;, score=0.902 total time= 1.5min\n",
      "[CV 4/5] END ................C=10.0, kernel=rbf;, score=0.898 total time= 1.6min\n",
      "[CV 5/5] END ................C=10.0, kernel=rbf;, score=0.905 total time= 1.5min\n",
      "Successfully saved features\n",
      "Training Done for : scharr\n",
      "Fitting 5 folds for each of 20 candidates, totalling 100 fits\n",
      "[CV 1/5] END ...............C=0.01, kernel=poly;, score=0.751 total time= 2.5min\n",
      "[CV 2/5] END ...............C=0.01, kernel=poly;, score=0.742 total time= 2.5min\n",
      "[CV 3/5] END ...............C=0.01, kernel=poly;, score=0.749 total time= 2.5min\n",
      "[CV 4/5] END ...............C=0.01, kernel=poly;, score=0.755 total time= 2.4min\n",
      "[CV 5/5] END ...............C=0.01, kernel=poly;, score=0.766 total time= 2.3min\n",
      "[CV 1/5] END ................C=0.01, kernel=rbf;, score=0.854 total time= 2.5min\n",
      "[CV 2/5] END ................C=0.01, kernel=rbf;, score=0.840 total time= 2.5min\n",
      "[CV 3/5] END ................C=0.01, kernel=rbf;, score=0.843 total time= 2.5min\n",
      "[CV 4/5] END ................C=0.01, kernel=rbf;, score=0.842 total time= 2.6min\n",
      "[CV 5/5] END ................C=0.01, kernel=rbf;, score=0.842 total time= 2.5min\n",
      "[CV 1/5] END C=0.021544346900318832, kernel=poly;, score=0.793 total time= 2.3min\n",
      "[CV 2/5] END C=0.021544346900318832, kernel=poly;, score=0.791 total time= 2.3min\n",
      "[CV 3/5] END C=0.021544346900318832, kernel=poly;, score=0.787 total time= 2.3min\n",
      "[CV 4/5] END C=0.021544346900318832, kernel=poly;, score=0.796 total time= 2.3min\n",
      "[CV 5/5] END C=0.021544346900318832, kernel=poly;, score=0.795 total time= 2.2min\n",
      "[CV 1/5] END C=0.021544346900318832, kernel=rbf;, score=0.864 total time= 2.3min\n",
      "[CV 2/5] END C=0.021544346900318832, kernel=rbf;, score=0.851 total time= 2.3min\n",
      "[CV 3/5] END C=0.021544346900318832, kernel=rbf;, score=0.851 total time= 2.3min\n",
      "[CV 4/5] END C=0.021544346900318832, kernel=rbf;, score=0.853 total time= 2.3min\n",
      "[CV 5/5] END C=0.021544346900318832, kernel=rbf;, score=0.854 total time= 2.3min\n",
      "[CV 1/5] END C=0.046415888336127774, kernel=poly;, score=0.821 total time= 2.2min\n",
      "[CV 2/5] END C=0.046415888336127774, kernel=poly;, score=0.813 total time= 2.1min\n",
      "[CV 3/5] END C=0.046415888336127774, kernel=poly;, score=0.811 total time= 2.0min\n",
      "[CV 4/5] END C=0.046415888336127774, kernel=poly;, score=0.821 total time= 2.1min\n",
      "[CV 5/5] END C=0.046415888336127774, kernel=poly;, score=0.826 total time= 2.0min\n",
      "[CV 1/5] END C=0.046415888336127774, kernel=rbf;, score=0.873 total time= 2.0min\n",
      "[CV 2/5] END C=0.046415888336127774, kernel=rbf;, score=0.859 total time= 2.0min\n",
      "[CV 3/5] END C=0.046415888336127774, kernel=rbf;, score=0.859 total time= 2.0min\n",
      "[CV 4/5] END C=0.046415888336127774, kernel=rbf;, score=0.854 total time= 2.1min\n",
      "[CV 5/5] END C=0.046415888336127774, kernel=rbf;, score=0.863 total time= 2.0min\n",
      "[CV 1/5] END ................C=0.1, kernel=poly;, score=0.837 total time= 1.9min\n",
      "[CV 2/5] END ................C=0.1, kernel=poly;, score=0.837 total time= 1.9min\n",
      "[CV 3/5] END ................C=0.1, kernel=poly;, score=0.829 total time= 1.9min\n",
      "[CV 4/5] END ................C=0.1, kernel=poly;, score=0.839 total time= 1.9min\n",
      "[CV 5/5] END ................C=0.1, kernel=poly;, score=0.847 total time= 1.9min\n",
      "[CV 1/5] END .................C=0.1, kernel=rbf;, score=0.880 total time= 1.9min\n",
      "[CV 2/5] END .................C=0.1, kernel=rbf;, score=0.868 total time= 1.8min\n",
      "[CV 3/5] END .................C=0.1, kernel=rbf;, score=0.869 total time= 1.9min\n",
      "[CV 4/5] END .................C=0.1, kernel=rbf;, score=0.865 total time= 1.9min\n",
      "[CV 5/5] END .................C=0.1, kernel=rbf;, score=0.870 total time= 1.9min\n",
      "[CV 1/5] END C=0.21544346900318834, kernel=poly;, score=0.859 total time= 1.9min\n",
      "[CV 2/5] END C=0.21544346900318834, kernel=poly;, score=0.854 total time= 1.9min\n",
      "[CV 3/5] END C=0.21544346900318834, kernel=poly;, score=0.848 total time= 1.9min\n",
      "[CV 4/5] END C=0.21544346900318834, kernel=poly;, score=0.851 total time= 1.9min\n",
      "[CV 5/5] END C=0.21544346900318834, kernel=poly;, score=0.855 total time= 1.9min\n",
      "[CV 1/5] END .C=0.21544346900318834, kernel=rbf;, score=0.890 total time= 1.8min\n",
      "[CV 2/5] END .C=0.21544346900318834, kernel=rbf;, score=0.882 total time= 1.7min\n",
      "[CV 3/5] END .C=0.21544346900318834, kernel=rbf;, score=0.883 total time= 1.7min\n",
      "[CV 4/5] END .C=0.21544346900318834, kernel=rbf;, score=0.878 total time= 1.7min\n",
      "[CV 5/5] END .C=0.21544346900318834, kernel=rbf;, score=0.882 total time= 1.7min\n",
      "[CV 1/5] END C=0.46415888336127775, kernel=poly;, score=0.870 total time= 1.8min\n",
      "[CV 2/5] END C=0.46415888336127775, kernel=poly;, score=0.863 total time= 1.8min\n",
      "[CV 3/5] END C=0.46415888336127775, kernel=poly;, score=0.853 total time= 1.8min\n",
      "[CV 4/5] END C=0.46415888336127775, kernel=poly;, score=0.860 total time= 1.8min\n",
      "[CV 5/5] END C=0.46415888336127775, kernel=poly;, score=0.863 total time= 1.8min\n",
      "[CV 1/5] END .C=0.46415888336127775, kernel=rbf;, score=0.904 total time= 1.7min\n",
      "[CV 2/5] END .C=0.46415888336127775, kernel=rbf;, score=0.898 total time= 1.8min\n",
      "[CV 3/5] END .C=0.46415888336127775, kernel=rbf;, score=0.898 total time= 1.8min\n",
      "[CV 4/5] END .C=0.46415888336127775, kernel=rbf;, score=0.891 total time= 1.6min\n",
      "[CV 5/5] END .C=0.46415888336127775, kernel=rbf;, score=0.897 total time= 1.7min\n",
      "[CV 1/5] END ................C=1.0, kernel=poly;, score=0.876 total time= 1.9min\n",
      "[CV 2/5] END ................C=1.0, kernel=poly;, score=0.873 total time= 1.9min\n",
      "[CV 3/5] END ................C=1.0, kernel=poly;, score=0.865 total time= 1.9min\n",
      "[CV 4/5] END ................C=1.0, kernel=poly;, score=0.869 total time= 1.8min\n",
      "[CV 5/5] END ................C=1.0, kernel=poly;, score=0.871 total time= 1.8min\n",
      "[CV 1/5] END .................C=1.0, kernel=rbf;, score=0.912 total time= 1.5min\n",
      "[CV 2/5] END .................C=1.0, kernel=rbf;, score=0.908 total time= 1.5min\n",
      "[CV 3/5] END .................C=1.0, kernel=rbf;, score=0.908 total time= 1.6min\n",
      "[CV 4/5] END .................C=1.0, kernel=rbf;, score=0.902 total time= 1.5min\n",
      "[CV 5/5] END .................C=1.0, kernel=rbf;, score=0.908 total time= 1.5min\n",
      "[CV 1/5] END ..C=2.154434690031882, kernel=poly;, score=0.881 total time= 2.0min\n",
      "[CV 2/5] END ..C=2.154434690031882, kernel=poly;, score=0.876 total time= 2.0min\n",
      "[CV 3/5] END ..C=2.154434690031882, kernel=poly;, score=0.871 total time= 2.0min\n",
      "[CV 4/5] END ..C=2.154434690031882, kernel=poly;, score=0.877 total time= 2.0min\n",
      "[CV 5/5] END ..C=2.154434690031882, kernel=poly;, score=0.877 total time= 2.0min\n",
      "[CV 1/5] END ...C=2.154434690031882, kernel=rbf;, score=0.918 total time= 1.5min\n",
      "[CV 2/5] END ...C=2.154434690031882, kernel=rbf;, score=0.914 total time= 1.4min\n",
      "[CV 3/5] END ...C=2.154434690031882, kernel=rbf;, score=0.910 total time= 1.4min\n",
      "[CV 4/5] END ...C=2.154434690031882, kernel=rbf;, score=0.911 total time= 1.5min\n",
      "[CV 5/5] END ...C=2.154434690031882, kernel=rbf;, score=0.915 total time= 1.4min\n",
      "[CV 1/5] END .C=4.6415888336127775, kernel=poly;, score=0.884 total time= 2.1min\n",
      "[CV 2/5] END .C=4.6415888336127775, kernel=poly;, score=0.881 total time= 2.1min\n",
      "[CV 3/5] END .C=4.6415888336127775, kernel=poly;, score=0.882 total time= 2.2min\n",
      "[CV 4/5] END .C=4.6415888336127775, kernel=poly;, score=0.886 total time= 2.2min\n",
      "[CV 5/5] END .C=4.6415888336127775, kernel=poly;, score=0.883 total time= 2.3min\n",
      "[CV 1/5] END ..C=4.6415888336127775, kernel=rbf;, score=0.919 total time= 1.4min\n",
      "[CV 2/5] END ..C=4.6415888336127775, kernel=rbf;, score=0.915 total time= 1.4min\n",
      "[CV 3/5] END ..C=4.6415888336127775, kernel=rbf;, score=0.910 total time= 1.4min\n",
      "[CV 4/5] END ..C=4.6415888336127775, kernel=rbf;, score=0.912 total time= 1.3min\n",
      "[CV 5/5] END ..C=4.6415888336127775, kernel=rbf;, score=0.919 total time= 1.4min\n",
      "[CV 1/5] END ...............C=10.0, kernel=poly;, score=0.893 total time= 2.7min\n",
      "[CV 2/5] END ...............C=10.0, kernel=poly;, score=0.888 total time= 2.5min\n",
      "[CV 3/5] END ...............C=10.0, kernel=poly;, score=0.889 total time= 2.7min\n",
      "[CV 4/5] END ...............C=10.0, kernel=poly;, score=0.893 total time= 2.7min\n",
      "[CV 5/5] END ...............C=10.0, kernel=poly;, score=0.895 total time= 3.4min\n",
      "[CV 1/5] END ................C=10.0, kernel=rbf;, score=0.918 total time= 1.4min\n",
      "[CV 2/5] END ................C=10.0, kernel=rbf;, score=0.916 total time= 1.4min\n",
      "[CV 3/5] END ................C=10.0, kernel=rbf;, score=0.913 total time= 1.3min\n",
      "[CV 4/5] END ................C=10.0, kernel=rbf;, score=0.914 total time= 1.4min\n",
      "[CV 5/5] END ................C=10.0, kernel=rbf;, score=0.921 total time= 1.4min\n",
      "Successfully saved features\n",
      "Training Done for : sobel\n"
     ]
    }
   ],
   "source": [
    "from general_models import StandardScaling\n",
    "parameters = {'kernel':('poly', 'rbf'), 'C': np.logspace(-2, 1, num = 10)}\n",
    "from sklearn.svm import SVC\n",
    "from sklearn.model_selection import GridSearchCV\n",
    "ll = ['canny', 'clahe', 'scharr', 'sobel']\n",
    "for itr in ll:\n",
    "    filename = './features_pkl/global_'+ itr + '_image_features.pkl'\n",
    "    data = load_feature(filename)\n",
    "    x_train, x_test, y_train, y_test = train_test_split(data, label, test_size=0.25, random_state=42)\n",
    "    x_train = StandardScaling(x_train,x_train)\n",
    "    svc = SVC(probability = True)\n",
    "    clf = GridSearchCV(svc, parameters, refit = True, cv = 5, verbose = 3)\n",
    "    clf.fit(x_train, y_train)\n",
    "    save_filename = './features_pkl/global_'+ itr + '_image_features_grid_search.pkl'\n",
    "    save_feature(clf, save_filename)\n",
    "    print(\"Training Done for :\", itr)"
   ]
  },
  {
   "cell_type": "code",
   "execution_count": 51,
   "metadata": {},
   "outputs": [
    {
     "name": "stdout",
     "output_type": "stream",
     "text": [
      "{'C': 10.0, 'kernel': 'rbf'}\n"
     ]
    }
   ],
   "source": [
    "print(clf.best_params_)"
   ]
  },
  {
   "cell_type": "code",
   "execution_count": 55,
   "metadata": {},
   "outputs": [
    {
     "name": "stdout",
     "output_type": "stream",
     "text": [
      "Training Done for : raw\n",
      "Training Done for : canny\n",
      "Training Done for : clahe\n",
      "Training Done for : scharr\n",
      "Training Done for : sobel\n"
     ]
    },
    {
     "data": {
      "text/html": [
       "<div>\n",
       "<style scoped>\n",
       "    .dataframe tbody tr th:only-of-type {\n",
       "        vertical-align: middle;\n",
       "    }\n",
       "\n",
       "    .dataframe tbody tr th {\n",
       "        vertical-align: top;\n",
       "    }\n",
       "\n",
       "    .dataframe thead th {\n",
       "        text-align: right;\n",
       "    }\n",
       "</style>\n",
       "<table border=\"1\" class=\"dataframe\">\n",
       "  <thead>\n",
       "    <tr style=\"text-align: right;\">\n",
       "      <th></th>\n",
       "      <th>Feature Type</th>\n",
       "      <th>SVM Accuracy</th>\n",
       "    </tr>\n",
       "  </thead>\n",
       "  <tbody>\n",
       "    <tr>\n",
       "      <th>0</th>\n",
       "      <td>raw</td>\n",
       "      <td>0.461538</td>\n",
       "    </tr>\n",
       "    <tr>\n",
       "      <th>1</th>\n",
       "      <td>canny</td>\n",
       "      <td>0.724819</td>\n",
       "    </tr>\n",
       "    <tr>\n",
       "      <th>2</th>\n",
       "      <td>clahe</td>\n",
       "      <td>0.387808</td>\n",
       "    </tr>\n",
       "    <tr>\n",
       "      <th>3</th>\n",
       "      <td>scharr</td>\n",
       "      <td>0.884761</td>\n",
       "    </tr>\n",
       "    <tr>\n",
       "      <th>4</th>\n",
       "      <td>sobel</td>\n",
       "      <td>0.909144</td>\n",
       "    </tr>\n",
       "  </tbody>\n",
       "</table>\n",
       "</div>"
      ],
      "text/plain": [
       "  Feature Type  SVM Accuracy\n",
       "0          raw      0.461538\n",
       "1        canny      0.724819\n",
       "2        clahe      0.387808\n",
       "3       scharr      0.884761\n",
       "4        sobel      0.909144"
      ]
     },
     "execution_count": 55,
     "metadata": {},
     "output_type": "execute_result"
    }
   ],
   "source": [
    "from sklearn.svm import SVC\n",
    "from sklearn.metrics import accuracy_score\n",
    "\n",
    "ll = ['raw', 'canny', 'clahe', 'scharr', 'sobel']\n",
    "svm_acc = []\n",
    "\n",
    "for itr in ll:\n",
    "    filename = './features_pkl/global_'+ itr + '_image_features.pkl'\n",
    "    data = load_feature(filename)\n",
    "    x_train, x_test, y_train, y_test = train_test_split(data, label, test_size=0.25, random_state=42)\n",
    "    x_train = StandardScaling_1(x_train)\n",
    "    x_test = StandardScaling_1(x_test)\n",
    "    svmm = SVC(kernel='rbf', C=10)\n",
    "    svmm.fit(x_train, y_train)\n",
    "    y_pred = clf_svc.predict(x_test)\n",
    "    svm_acc.append(accuracy_score(y_test, y_pred))\n",
    "    print(\"Training Done for :\", itr)\n",
    "\n",
    "df = pd.DataFrame({'Feature Type' : ll , \"SVM Accuracy\": svm_acc})\n",
    "df"
   ]
  },
  {
   "cell_type": "code",
   "execution_count": 56,
   "id": "1c086185",
   "metadata": {},
   "outputs": [
    {
     "name": "stdout",
     "output_type": "stream",
     "text": [
      "27204 27204\n"
     ]
    },
    {
     "name": "stderr",
     "output_type": "stream",
     "text": [
      "d:\\Vivek\\Python\\lib\\site-packages\\sklearn\\cluster\\_kmeans.py:1416: FutureWarning: The default value of `n_init` will change from 10 to 'auto' in 1.4. Set the value of `n_init` explicitly to suppress the warning\n",
      "  super()._check_params_vs_input(X, default_n_init=10)\n"
     ]
    },
    {
     "name": "stdout",
     "output_type": "stream",
     "text": [
      "Fitting 5 folds for each of 20 candidates, totalling 100 fits\n",
      "[CV 1/5] END ...............C=0.01, kernel=poly;, score=0.612 total time= 2.2min\n",
      "[CV 2/5] END ...............C=0.01, kernel=poly;, score=0.624 total time= 2.3min\n",
      "[CV 3/5] END ...............C=0.01, kernel=poly;, score=0.616 total time= 2.1min\n",
      "[CV 4/5] END ...............C=0.01, kernel=poly;, score=0.613 total time= 2.1min\n",
      "[CV 5/5] END ...............C=0.01, kernel=poly;, score=0.613 total time= 2.0min\n",
      "[CV 1/5] END ................C=0.01, kernel=rbf;, score=0.864 total time= 1.6min\n",
      "[CV 2/5] END ................C=0.01, kernel=rbf;, score=0.860 total time= 1.7min\n",
      "[CV 3/5] END ................C=0.01, kernel=rbf;, score=0.863 total time= 1.6min\n",
      "[CV 4/5] END ................C=0.01, kernel=rbf;, score=0.863 total time= 1.7min\n",
      "[CV 5/5] END ................C=0.01, kernel=rbf;, score=0.854 total time= 1.7min\n",
      "[CV 1/5] END C=0.021544346900318832, kernel=poly;, score=0.665 total time= 1.9min\n",
      "[CV 2/5] END C=0.021544346900318832, kernel=poly;, score=0.670 total time= 1.7min\n",
      "[CV 3/5] END C=0.021544346900318832, kernel=poly;, score=0.660 total time= 1.8min\n",
      "[CV 4/5] END C=0.021544346900318832, kernel=poly;, score=0.658 total time= 1.8min\n",
      "[CV 5/5] END C=0.021544346900318832, kernel=poly;, score=0.654 total time= 1.9min\n",
      "[CV 1/5] END C=0.021544346900318832, kernel=rbf;, score=0.878 total time= 1.5min\n",
      "[CV 2/5] END C=0.021544346900318832, kernel=rbf;, score=0.873 total time= 1.3min\n",
      "[CV 3/5] END C=0.021544346900318832, kernel=rbf;, score=0.871 total time= 1.7min\n",
      "[CV 4/5] END C=0.021544346900318832, kernel=rbf;, score=0.874 total time= 1.5min\n",
      "[CV 5/5] END C=0.021544346900318832, kernel=rbf;, score=0.872 total time= 1.5min\n",
      "[CV 1/5] END C=0.046415888336127774, kernel=poly;, score=0.708 total time= 1.9min\n",
      "[CV 2/5] END C=0.046415888336127774, kernel=poly;, score=0.714 total time= 1.8min\n",
      "[CV 3/5] END C=0.046415888336127774, kernel=poly;, score=0.706 total time= 1.7min\n",
      "[CV 4/5] END C=0.046415888336127774, kernel=poly;, score=0.706 total time= 1.7min\n",
      "[CV 5/5] END C=0.046415888336127774, kernel=poly;, score=0.691 total time= 1.7min\n",
      "[CV 1/5] END C=0.046415888336127774, kernel=rbf;, score=0.888 total time= 1.2min\n",
      "[CV 2/5] END C=0.046415888336127774, kernel=rbf;, score=0.879 total time= 1.2min\n",
      "[CV 3/5] END C=0.046415888336127774, kernel=rbf;, score=0.879 total time= 1.2min\n",
      "[CV 4/5] END C=0.046415888336127774, kernel=rbf;, score=0.882 total time= 1.2min\n",
      "[CV 5/5] END C=0.046415888336127774, kernel=rbf;, score=0.881 total time= 1.2min\n",
      "[CV 1/5] END ................C=0.1, kernel=poly;, score=0.755 total time= 1.8min\n",
      "[CV 2/5] END ................C=0.1, kernel=poly;, score=0.763 total time= 1.4min\n",
      "[CV 3/5] END ................C=0.1, kernel=poly;, score=0.756 total time= 1.4min\n",
      "[CV 4/5] END ................C=0.1, kernel=poly;, score=0.754 total time= 1.5min\n",
      "[CV 5/5] END ................C=0.1, kernel=poly;, score=0.740 total time= 1.4min\n",
      "[CV 1/5] END .................C=0.1, kernel=rbf;, score=0.896 total time= 1.0min\n",
      "[CV 2/5] END .................C=0.1, kernel=rbf;, score=0.886 total time=  60.0s\n",
      "[CV 3/5] END .................C=0.1, kernel=rbf;, score=0.889 total time=  59.2s\n",
      "[CV 4/5] END .................C=0.1, kernel=rbf;, score=0.889 total time= 1.0min\n",
      "[CV 5/5] END .................C=0.1, kernel=rbf;, score=0.889 total time=  58.4s\n",
      "[CV 1/5] END C=0.21544346900318834, kernel=poly;, score=0.804 total time= 1.3min\n",
      "[CV 2/5] END C=0.21544346900318834, kernel=poly;, score=0.812 total time= 1.3min\n",
      "[CV 3/5] END C=0.21544346900318834, kernel=poly;, score=0.813 total time= 1.4min\n",
      "[CV 4/5] END C=0.21544346900318834, kernel=poly;, score=0.809 total time= 1.5min\n",
      "[CV 5/5] END C=0.21544346900318834, kernel=poly;, score=0.791 total time= 1.4min\n",
      "[CV 1/5] END .C=0.21544346900318834, kernel=rbf;, score=0.902 total time= 1.0min\n",
      "[CV 2/5] END .C=0.21544346900318834, kernel=rbf;, score=0.891 total time= 1.0min\n",
      "[CV 3/5] END .C=0.21544346900318834, kernel=rbf;, score=0.893 total time= 1.1min\n",
      "[CV 4/5] END .C=0.21544346900318834, kernel=rbf;, score=0.894 total time= 1.1min\n",
      "[CV 5/5] END .C=0.21544346900318834, kernel=rbf;, score=0.893 total time=  57.2s\n",
      "[CV 1/5] END C=0.46415888336127775, kernel=poly;, score=0.844 total time= 1.1min\n",
      "[CV 2/5] END C=0.46415888336127775, kernel=poly;, score=0.848 total time= 1.2min\n",
      "[CV 3/5] END C=0.46415888336127775, kernel=poly;, score=0.850 total time= 1.1min\n",
      "[CV 4/5] END C=0.46415888336127775, kernel=poly;, score=0.848 total time= 1.2min\n",
      "[CV 5/5] END C=0.46415888336127775, kernel=poly;, score=0.831 total time= 1.1min\n",
      "[CV 1/5] END .C=0.46415888336127775, kernel=rbf;, score=0.903 total time=  52.7s\n",
      "[CV 2/5] END .C=0.46415888336127775, kernel=rbf;, score=0.896 total time=  51.5s\n",
      "[CV 3/5] END .C=0.46415888336127775, kernel=rbf;, score=0.896 total time=  52.4s\n",
      "[CV 4/5] END .C=0.46415888336127775, kernel=rbf;, score=0.899 total time=  52.9s\n",
      "[CV 5/5] END .C=0.46415888336127775, kernel=rbf;, score=0.896 total time=  51.6s\n",
      "[CV 1/5] END ................C=1.0, kernel=poly;, score=0.866 total time= 1.0min\n",
      "[CV 2/5] END ................C=1.0, kernel=poly;, score=0.866 total time= 1.1min\n",
      "[CV 3/5] END ................C=1.0, kernel=poly;, score=0.872 total time=  59.2s\n",
      "[CV 4/5] END ................C=1.0, kernel=poly;, score=0.870 total time=  58.7s\n",
      "[CV 5/5] END ................C=1.0, kernel=poly;, score=0.858 total time=  57.8s\n",
      "[CV 1/5] END .................C=1.0, kernel=rbf;, score=0.902 total time=  52.9s\n",
      "[CV 2/5] END .................C=1.0, kernel=rbf;, score=0.899 total time=  53.1s\n",
      "[CV 3/5] END .................C=1.0, kernel=rbf;, score=0.896 total time=  53.8s\n",
      "[CV 4/5] END .................C=1.0, kernel=rbf;, score=0.900 total time=  52.8s\n",
      "[CV 5/5] END .................C=1.0, kernel=rbf;, score=0.897 total time=  50.6s\n",
      "[CV 1/5] END ..C=2.154434690031882, kernel=poly;, score=0.880 total time=  54.3s\n",
      "[CV 2/5] END ..C=2.154434690031882, kernel=poly;, score=0.878 total time=  56.6s\n",
      "[CV 3/5] END ..C=2.154434690031882, kernel=poly;, score=0.877 total time=  56.4s\n",
      "[CV 4/5] END ..C=2.154434690031882, kernel=poly;, score=0.877 total time=  57.1s\n",
      "[CV 5/5] END ..C=2.154434690031882, kernel=poly;, score=0.870 total time=  55.1s\n",
      "[CV 1/5] END ...C=2.154434690031882, kernel=rbf;, score=0.902 total time=  55.3s\n",
      "[CV 2/5] END ...C=2.154434690031882, kernel=rbf;, score=0.897 total time=  56.3s\n",
      "[CV 3/5] END ...C=2.154434690031882, kernel=rbf;, score=0.895 total time=  56.4s\n",
      "[CV 4/5] END ...C=2.154434690031882, kernel=rbf;, score=0.901 total time=  55.6s\n",
      "[CV 5/5] END ...C=2.154434690031882, kernel=rbf;, score=0.895 total time=  53.6s\n",
      "[CV 1/5] END .C=4.6415888336127775, kernel=poly;, score=0.886 total time=  52.3s\n",
      "[CV 2/5] END .C=4.6415888336127775, kernel=poly;, score=0.879 total time=  52.7s\n",
      "[CV 3/5] END .C=4.6415888336127775, kernel=poly;, score=0.882 total time=  51.9s\n",
      "[CV 4/5] END .C=4.6415888336127775, kernel=poly;, score=0.880 total time=  51.7s\n",
      "[CV 5/5] END .C=4.6415888336127775, kernel=poly;, score=0.877 total time=  51.7s\n",
      "[CV 1/5] END ..C=4.6415888336127775, kernel=rbf;, score=0.900 total time= 1.0min\n",
      "[CV 2/5] END ..C=4.6415888336127775, kernel=rbf;, score=0.895 total time= 1.1min\n",
      "[CV 3/5] END ..C=4.6415888336127775, kernel=rbf;, score=0.894 total time= 1.0min\n",
      "[CV 4/5] END ..C=4.6415888336127775, kernel=rbf;, score=0.899 total time= 1.0min\n",
      "[CV 5/5] END ..C=4.6415888336127775, kernel=rbf;, score=0.891 total time= 1.0min\n",
      "[CV 1/5] END ...............C=10.0, kernel=poly;, score=0.885 total time=  49.9s\n",
      "[CV 2/5] END ...............C=10.0, kernel=poly;, score=0.878 total time=  51.6s\n",
      "[CV 3/5] END ...............C=10.0, kernel=poly;, score=0.881 total time=  51.0s\n",
      "[CV 4/5] END ...............C=10.0, kernel=poly;, score=0.878 total time=  51.3s\n",
      "[CV 5/5] END ...............C=10.0, kernel=poly;, score=0.879 total time=  49.8s\n",
      "[CV 1/5] END ................C=10.0, kernel=rbf;, score=0.896 total time= 1.2min\n",
      "[CV 2/5] END ................C=10.0, kernel=rbf;, score=0.889 total time= 1.2min\n",
      "[CV 3/5] END ................C=10.0, kernel=rbf;, score=0.891 total time= 1.2min\n",
      "[CV 4/5] END ................C=10.0, kernel=rbf;, score=0.890 total time= 1.2min\n",
      "[CV 5/5] END ................C=10.0, kernel=rbf;, score=0.890 total time= 1.2min\n",
      "Successfully saved features\n"
     ]
    }
   ],
   "source": [
    "#Grid Search on SIFT\n",
    "parameters = {'kernel':('poly', 'rbf'), 'C': np.logspace(-2, 1, num = 10)}\n",
    "LF = LocalFeature(feature_type = 'SIFT', cluster_size = 50, test_size = 0.25, image_type = 'original')\n",
    "x_train, x_test, y_train, y_test = LF.fit(np_img)\n",
    "x_train = StandardScaling(x_train, x_train)\n",
    "x_test = StandardScaling(x_train,x_test)\n",
    "svc = SVC(probability = True)\n",
    "clf = GridSearchCV(svc, parameters, refit = True, cv = 5, verbose = 3)\n",
    "clf.fit(x_train, y_train)    \n",
    "save_filename = './features_pkl/local_'+ 'raw' + '_image_features_grid_search'\n",
    "save_feature(clf, save_filename)\n"
   ]
  },
  {
   "cell_type": "markdown",
   "id": "09fa2a35",
   "metadata": {},
   "source": [
    "<h3>Grid Search Cv model on test data"
   ]
  },
  {
   "cell_type": "code",
   "execution_count": 57,
   "id": "e8637d0b",
   "metadata": {},
   "outputs": [],
   "source": [
    "prob_grid = []"
   ]
  },
  {
   "cell_type": "code",
   "execution_count": 58,
   "id": "af59954a",
   "metadata": {},
   "outputs": [
    {
     "name": "stdout",
     "output_type": "stream",
     "text": [
      "Accuracy-0.8690856313497823 Precision-0.8654390934844193 Recall-0.8773693279724296 F1-0.8713633770678837\n",
      "Accuracy-0.8645863570391872 Precision-0.8640388460439874 Recall-0.8687535898908674 F1-0.866389803809251\n",
      "Accuracy-0.9063860667634253 Precision-0.9233064756789018 Recall-0.8885697874784606 F1-0.9056051514708034\n",
      "Accuracy-0.9191582002902757 Precision-0.9380053908355795 Recall-0.8994830557151062 F1-0.9183404192933587\n"
     ]
    }
   ],
   "source": [
    "ll = ['canny', 'clahe','scharr', 'sobel']\n",
    "for itr in ll:\n",
    "    filename = './features_pkl/global_'+ itr + '_image_features_grid_search.pkl.pkl'\n",
    "    clf = load_feature(filename)\n",
    "    filename = './features_pkl/global_'+ itr + '_image_features.pkl'\n",
    "    data = load_feature(filename)\n",
    "    x_train, x_test, y_train, y_test = train_test_split(data, label, test_size=0.25, random_state=42)\n",
    "    x_test = StandardScaling(x_train,x_test)\n",
    "    y_pred_test = clf.predict(x_test)\n",
    "    y_pred_proba = clf.predict_proba(x_test)\n",
    "    prob_grid.append(y_pred_proba[:,1])\n",
    "    matrix,accuracy,precision,recall,f1 = metric(y_test,y_pred_test)\n",
    "    print(\"Accuracy-{0} Precision-{1} Recall-{2} F1-{3}\".format(accuracy,precision,recall,f1))\n",
    "    grid_search_df.loc[itr] = [accuracy,precision,recall,f1]"
   ]
  },
  {
   "cell_type": "code",
   "execution_count": 59,
   "id": "700ccd71",
   "metadata": {},
   "outputs": [],
   "source": [
    "y1 = copy.deepcopy(y_test)"
   ]
  },
  {
   "cell_type": "code",
   "execution_count": 60,
   "id": "af53a656",
   "metadata": {},
   "outputs": [
    {
     "name": "stdout",
     "output_type": "stream",
     "text": [
      "27204 27204\n"
     ]
    },
    {
     "name": "stderr",
     "output_type": "stream",
     "text": [
      "d:\\Vivek\\Python\\lib\\site-packages\\sklearn\\cluster\\_kmeans.py:1416: FutureWarning: The default value of `n_init` will change from 10 to 'auto' in 1.4. Set the value of `n_init` explicitly to suppress the warning\n",
      "  super()._check_params_vs_input(X, default_n_init=10)\n"
     ]
    },
    {
     "name": "stdout",
     "output_type": "stream",
     "text": [
      "Accuracy-0.9017791501249817 Precision-0.8984238178633975 Recall-0.9058269570335491 F1-0.9021101992966001\n"
     ]
    }
   ],
   "source": [
    "#Prediction on SIFT Grid Search\n",
    "filename = './features_pkl/local_'+ 'raw' + '_image_features_grid_search.pkl'\n",
    "clf = load_feature(filename)\n",
    "x_train, x_test, y_train, y_test = LF.fit(np_img)\n",
    "x_test = StandardScaling(x_train,x_test)\n",
    "y_pred_test = clf.predict(x_test)\n",
    "y_pred_proba = clf.predict_proba(x_test)\n",
    "prob_grid.append(y_pred_proba[:,1])\n",
    "matrix,accuracy,precision,recall,f1 = metric(y_test,y_pred_test)\n",
    "print(\"Accuracy-{0} Precision-{1} Recall-{2} F1-{3}\".format(accuracy,precision,recall,f1))\n",
    "grid_search_df.loc['SIFT BOVW'] = [accuracy,precision,recall,f1]"
   ]
  },
  {
   "cell_type": "code",
   "execution_count": 61,
   "id": "69e76ffb",
   "metadata": {},
   "outputs": [],
   "source": [
    "y2 = copy.deepcopy(y_test)"
   ]
  },
  {
   "cell_type": "code",
   "execution_count": 62,
   "id": "3f629b9d",
   "metadata": {},
   "outputs": [
    {
     "data": {
      "text/html": [
       "<div>\n",
       "<style scoped>\n",
       "    .dataframe tbody tr th:only-of-type {\n",
       "        vertical-align: middle;\n",
       "    }\n",
       "\n",
       "    .dataframe tbody tr th {\n",
       "        vertical-align: top;\n",
       "    }\n",
       "\n",
       "    .dataframe thead th {\n",
       "        text-align: right;\n",
       "    }\n",
       "</style>\n",
       "<table border=\"1\" class=\"dataframe\">\n",
       "  <thead>\n",
       "    <tr style=\"text-align: right;\">\n",
       "      <th></th>\n",
       "      <th>Accuracy</th>\n",
       "      <th>Precision</th>\n",
       "      <th>Recall</th>\n",
       "      <th>F1</th>\n",
       "    </tr>\n",
       "  </thead>\n",
       "  <tbody>\n",
       "    <tr>\n",
       "      <th>SIFT BOVW</th>\n",
       "      <td>0.901779</td>\n",
       "      <td>0.898424</td>\n",
       "      <td>0.905827</td>\n",
       "      <td>0.90211</td>\n",
       "    </tr>\n",
       "    <tr>\n",
       "      <th>canny</th>\n",
       "      <td>0.869086</td>\n",
       "      <td>0.865439</td>\n",
       "      <td>0.877369</td>\n",
       "      <td>0.871363</td>\n",
       "    </tr>\n",
       "    <tr>\n",
       "      <th>clahe</th>\n",
       "      <td>0.864586</td>\n",
       "      <td>0.864039</td>\n",
       "      <td>0.868754</td>\n",
       "      <td>0.86639</td>\n",
       "    </tr>\n",
       "    <tr>\n",
       "      <th>scharr</th>\n",
       "      <td>0.906386</td>\n",
       "      <td>0.923306</td>\n",
       "      <td>0.88857</td>\n",
       "      <td>0.905605</td>\n",
       "    </tr>\n",
       "    <tr>\n",
       "      <th>sobel</th>\n",
       "      <td>0.919158</td>\n",
       "      <td>0.938005</td>\n",
       "      <td>0.899483</td>\n",
       "      <td>0.91834</td>\n",
       "    </tr>\n",
       "  </tbody>\n",
       "</table>\n",
       "</div>"
      ],
      "text/plain": [
       "           Accuracy Precision    Recall        F1\n",
       "SIFT BOVW  0.901779  0.898424  0.905827   0.90211\n",
       "canny      0.869086  0.865439  0.877369  0.871363\n",
       "clahe      0.864586  0.864039  0.868754   0.86639\n",
       "scharr     0.906386  0.923306   0.88857  0.905605\n",
       "sobel      0.919158  0.938005  0.899483   0.91834"
      ]
     },
     "execution_count": 62,
     "metadata": {},
     "output_type": "execute_result"
    }
   ],
   "source": [
    "grid_search_df"
   ]
  },
  {
   "cell_type": "markdown",
   "id": "6b308c2a",
   "metadata": {},
   "source": [
    "<h3> ROC Curve for Grid Search on all 3 preprocessing techniques"
   ]
  },
  {
   "cell_type": "code",
   "execution_count": 106,
   "metadata": {},
   "outputs": [
    {
     "name": "stdout",
     "output_type": "stream",
     "text": [
      "6890\n",
      "6801\n",
      "6801\n",
      "6801\n",
      "6801\n",
      "6801\n"
     ]
    }
   ],
   "source": [
    "print(len(y1))\n",
    "print(len(y2))\n",
    "print(len(prob_grid[0]))\n",
    "for i in range (0,5):\n",
    "    y1 = y1[:len(y2)]\n",
    "print(len(y1))\n",
    "print(len(y2))\n",
    "print(len(prob_grid[0]))"
   ]
  },
  {
   "cell_type": "code",
   "execution_count": 85,
   "id": "dd00bbd4",
   "metadata": {},
   "outputs": [
    {
     "data": {
      "image/png": "[encoded data removed]",
      "text/plain": [
       "<Figure size 1200x600 with 1 Axes>"
      ]
     },
     "metadata": {},
     "output_type": "display_data"
    }
   ],
   "source": [
    "plot_roc(y1, y2, prob_grid, ['scharr','sobel', 'SIFT BOVW'])                                     "
   ]
  },
  {
   "cell_type": "markdown",
   "id": "8bd0e3ba",
   "metadata": {},
   "source": [
    "<h1>Ensembling: Random Tree Classifier"
   ]
  },
  {
   "cell_type": "code",
   "execution_count": 86,
   "id": "1a259c26",
   "metadata": {},
   "outputs": [],
   "source": [
    "random_tree_df = pd.DataFrame(columns = ['Accuracy', 'Precision', 'Recall','F1'], \n",
    "                   index = ['SIFT BOVW', 'scharr', 'sobel'])"
   ]
  },
  {
   "cell_type": "code",
   "execution_count": 87,
   "id": "8528ae99",
   "metadata": {},
   "outputs": [
    {
     "name": "stdout",
     "output_type": "stream",
     "text": [
      "Successfully saved features\n",
      "Training Done for : scharr\n",
      "Successfully saved features\n",
      "Training Done for : sobel\n"
     ]
    }
   ],
   "source": [
    "from sklearn.ensemble import RandomForestClassifier\n",
    "ll = ['scharr', 'sobel']\n",
    "for itr in ll:\n",
    "    filename = './features_pkl/global_'+ itr + '_image_features.pkl'\n",
    "    data = load_feature(filename)\n",
    "    x_train, x_test, y_train, y_test = train_test_split(data, label, test_size=0.25, random_state=42)\n",
    "    x_train = StandardScaling(x_train,x_train)\n",
    "    clf = RandomForestClassifier()\n",
    "    clf.fit(x_train, y_train)\n",
    "    save_filename = './features_pkl/global_'+ itr + '_image_features_random_tree'\n",
    "    save_feature(clf, save_filename)\n",
    "    print(\"Training Done for :\", itr)"
   ]
  },
  {
   "cell_type": "code",
   "execution_count": 88,
   "id": "ad2022e6",
   "metadata": {},
   "outputs": [
    {
     "name": "stdout",
     "output_type": "stream",
     "text": [
      "27204 27204\n"
     ]
    },
    {
     "name": "stderr",
     "output_type": "stream",
     "text": [
      "d:\\Vivek\\Python\\lib\\site-packages\\sklearn\\cluster\\_kmeans.py:1416: FutureWarning: The default value of `n_init` will change from 10 to 'auto' in 1.4. Set the value of `n_init` explicitly to suppress the warning\n",
      "  super()._check_params_vs_input(X, default_n_init=10)\n"
     ]
    },
    {
     "name": "stdout",
     "output_type": "stream",
     "text": [
      "Successfully saved features\n"
     ]
    }
   ],
   "source": [
    "#Random Tree on SIFT\n",
    "LF = LocalFeature(feature_type = 'SIFT', cluster_size = 50, test_size = 0.25, image_type = 'original')\n",
    "x_train, x_test, y_train, y_test = LF.fit(np_img)\n",
    "x_train = StandardScaling(x_train, x_train)\n",
    "x_test = StandardScaling(x_train,x_test)\n",
    "clf = RandomForestClassifier()\n",
    "clf.fit(x_train, y_train)    \n",
    "save_filename = './features_pkl/local_'+ 'raw' + '_image_features_random_tree'\n",
    "save_feature(clf, save_filename)"
   ]
  },
  {
   "cell_type": "markdown",
   "id": "e0714eea",
   "metadata": {},
   "source": [
    "<h3>Random Tree Predictions"
   ]
  },
  {
   "cell_type": "code",
   "execution_count": 89,
   "id": "2cc7d394",
   "metadata": {},
   "outputs": [],
   "source": [
    "proba_random_tree = []"
   ]
  },
  {
   "cell_type": "code",
   "execution_count": 90,
   "id": "a9ba31f9",
   "metadata": {},
   "outputs": [
    {
     "name": "stdout",
     "output_type": "stream",
     "text": [
      "Accuracy-0.87677793904209 Precision-0.8812626701419056 Recall-0.8739230327398048 F1-0.877577505407354\n",
      "Accuracy-0.8850507982583454 Precision-0.8907611853573504 Recall-0.8805284319356692 F1-0.8856152512998267\n"
     ]
    }
   ],
   "source": [
    "ll = ['scharr', 'sobel']\n",
    "for itr in ll:\n",
    "    filename = './features_pkl/global_'+ itr + '_image_features_random_tree.pkl'\n",
    "    clf = load_feature(filename)\n",
    "    filename = './features_pkl/global_'+ itr + '_image_features.pkl'\n",
    "    data = load_feature(filename)\n",
    "    x_train, x_test, y_train, y_test = train_test_split(data, label, test_size=0.25, random_state=42)\n",
    "    x_test = StandardScaling(x_train,x_test)\n",
    "    y_pred_test = clf.predict(x_test)\n",
    "    y_pred_proba = clf.predict_proba(x_test)\n",
    "    proba_random_tree.append(y_pred_proba[:,1])\n",
    "    matrix,accuracy,precision,recall,f1 = metric(y_test,y_pred_test)\n",
    "    print(\"Accuracy-{0} Precision-{1} Recall-{2} F1-{3}\".format(accuracy,precision,recall,f1))\n",
    "    random_tree_df.loc[itr] = [accuracy,precision,recall,f1]"
   ]
  },
  {
   "cell_type": "code",
   "execution_count": 91,
   "id": "6b767d55",
   "metadata": {},
   "outputs": [],
   "source": [
    "y1 = copy.deepcopy(y_test)"
   ]
  },
  {
   "cell_type": "code",
   "execution_count": 92,
   "id": "9df18994",
   "metadata": {},
   "outputs": [
    {
     "name": "stdout",
     "output_type": "stream",
     "text": [
      "27204 27204\n"
     ]
    },
    {
     "name": "stderr",
     "output_type": "stream",
     "text": [
      "d:\\Vivek\\Python\\lib\\site-packages\\sklearn\\cluster\\_kmeans.py:1416: FutureWarning: The default value of `n_init` will change from 10 to 'auto' in 1.4. Set the value of `n_init` explicitly to suppress the warning\n",
      "  super()._check_params_vs_input(X, default_n_init=10)\n"
     ]
    },
    {
     "name": "stdout",
     "output_type": "stream",
     "text": [
      "Random Tree : Accuracy-0.9039847081311572 Precision-0.8988666085440279 Recall-0.9102413184226015 F1-0.9045182044158503\n"
     ]
    }
   ],
   "source": [
    "#Prediction on SIFT Random Tree\n",
    "filename = './features_pkl/local_'+ 'raw' + '_image_features_random_tree.pkl'\n",
    "clf = load_feature(filename)\n",
    "x_train, x_test, y_train, y_test = LF.fit(np_img)\n",
    "x_test = StandardScaling(x_train,x_test)\n",
    "y_pred_test = clf.predict(x_test)\n",
    "y_pred_proba = clf.predict_proba(x_test)\n",
    "proba_random_tree.append(y_pred_proba[:,1])\n",
    "matrix,accuracy,precision,recall,f1 = metric(y_test,y_pred_test)\n",
    "print(\"Random Tree : Accuracy-{0} Precision-{1} Recall-{2} F1-{3}\".format(accuracy,precision,recall,f1))\n",
    "random_tree_df.loc['SIFT BOVW'] = [accuracy,precision,recall,f1]"
   ]
  },
  {
   "cell_type": "code",
   "execution_count": 93,
   "id": "df22ef48",
   "metadata": {},
   "outputs": [],
   "source": [
    "y2 = copy.deepcopy(y_test)"
   ]
  },
  {
   "cell_type": "code",
   "execution_count": 94,
   "id": "4d1e590f",
   "metadata": {},
   "outputs": [
    {
     "data": {
      "text/html": [
       "<div>\n",
       "<style scoped>\n",
       "    .dataframe tbody tr th:only-of-type {\n",
       "        vertical-align: middle;\n",
       "    }\n",
       "\n",
       "    .dataframe tbody tr th {\n",
       "        vertical-align: top;\n",
       "    }\n",
       "\n",
       "    .dataframe thead th {\n",
       "        text-align: right;\n",
       "    }\n",
       "</style>\n",
       "<table border=\"1\" class=\"dataframe\">\n",
       "  <thead>\n",
       "    <tr style=\"text-align: right;\">\n",
       "      <th></th>\n",
       "      <th>Accuracy</th>\n",
       "      <th>Precision</th>\n",
       "      <th>Recall</th>\n",
       "      <th>F1</th>\n",
       "    </tr>\n",
       "  </thead>\n",
       "  <tbody>\n",
       "    <tr>\n",
       "      <th>SIFT BOVW</th>\n",
       "      <td>0.903985</td>\n",
       "      <td>0.898867</td>\n",
       "      <td>0.910241</td>\n",
       "      <td>0.904518</td>\n",
       "    </tr>\n",
       "    <tr>\n",
       "      <th>scharr</th>\n",
       "      <td>0.876778</td>\n",
       "      <td>0.881263</td>\n",
       "      <td>0.873923</td>\n",
       "      <td>0.877578</td>\n",
       "    </tr>\n",
       "    <tr>\n",
       "      <th>sobel</th>\n",
       "      <td>0.885051</td>\n",
       "      <td>0.890761</td>\n",
       "      <td>0.880528</td>\n",
       "      <td>0.885615</td>\n",
       "    </tr>\n",
       "  </tbody>\n",
       "</table>\n",
       "</div>"
      ],
      "text/plain": [
       "           Accuracy Precision    Recall        F1\n",
       "SIFT BOVW  0.903985  0.898867  0.910241  0.904518\n",
       "scharr     0.876778  0.881263  0.873923  0.877578\n",
       "sobel      0.885051  0.890761  0.880528  0.885615"
      ]
     },
     "execution_count": 94,
     "metadata": {},
     "output_type": "execute_result"
    }
   ],
   "source": [
    "random_tree_df"
   ]
  },
  {
   "cell_type": "code",
   "execution_count": 95,
   "id": "05ce3bd0",
   "metadata": {},
   "outputs": [
    {
     "data": {
      "image/png": "[encoded data removed]",
      "text/plain": [
       "<Figure size 1200x600 with 1 Axes>"
      ]
     },
     "metadata": {},
     "output_type": "display_data"
    }
   ],
   "source": [
    "plot_roc(y1, y2, proba_random_tree, ['scharr', 'sobel', 'SIFT BOVW'])"
   ]
  },
  {
   "cell_type": "markdown",
   "id": "eed80d30",
   "metadata": {},
   "source": [
    "<h1>Ensembling: Ada Boost"
   ]
  },
  {
   "cell_type": "code",
   "execution_count": 96,
   "id": "3c5dbfd0",
   "metadata": {},
   "outputs": [],
   "source": [
    "adaboost_dt_df = pd.DataFrame(columns = ['Accuracy', 'Precision', 'Recall','F1'], \n",
    "                   index = ['SIFT BOVW', 'scharr', 'sobel'])\n",
    "\n",
    "adaboost_lr_df = pd.DataFrame(columns = ['Accuracy', 'Precision', 'Recall','F1'], \n",
    "                   index = ['SIFT BOVW', 'scharr', 'sobel'])"
   ]
  },
  {
   "cell_type": "code",
   "execution_count": 97,
   "id": "27bc0d63",
   "metadata": {},
   "outputs": [
    {
     "name": "stdout",
     "output_type": "stream",
     "text": [
      "Successfully saved features\n",
      "Training Done for : scharr\n",
      "Successfully saved features\n",
      "Training Done for : sobel\n"
     ]
    },
    {
     "name": "stderr",
     "output_type": "stream",
     "text": [
      "d:\\Vivek\\Python\\lib\\site-packages\\sklearn\\ensemble\\_base.py:156: FutureWarning: `base_estimator` was renamed to `estimator` in version 1.2 and will be removed in 1.4.\n",
      "  warnings.warn(\n"
     ]
    },
    {
     "name": "stdout",
     "output_type": "stream",
     "text": [
      "Successfully saved features\n",
      "Training Done for : scharr\n"
     ]
    },
    {
     "name": "stderr",
     "output_type": "stream",
     "text": [
      "d:\\Vivek\\Python\\lib\\site-packages\\sklearn\\ensemble\\_base.py:156: FutureWarning: `base_estimator` was renamed to `estimator` in version 1.2 and will be removed in 1.4.\n",
      "  warnings.warn(\n"
     ]
    },
    {
     "name": "stdout",
     "output_type": "stream",
     "text": [
      "Successfully saved features\n",
      "Training Done for : sobel\n"
     ]
    }
   ],
   "source": [
    "from sklearn.ensemble import AdaBoostClassifier\n",
    "ll = ['scharr', 'sobel']\n",
    "for itr in ll:\n",
    "    filename = './features_pkl/global_'+ itr + '_image_features.pkl'\n",
    "    data = load_feature(filename)\n",
    "    x_train, x_test, y_train, y_test = train_test_split(data, label, test_size=0.25, random_state=42)\n",
    "    x_train = StandardScaling(x_train,x_train)\n",
    "    clf = AdaBoostClassifier(algorithm = 'SAMME')\n",
    "    clf.fit(x_train, y_train)\n",
    "    save_filename = './features_pkl/global_'+ itr + '_image_features_adaboost_default'\n",
    "    save_feature(clf, save_filename)\n",
    "    print(\"Training Done for :\", itr)\n",
    "    \n",
    "lr = LogisticRegression()\n",
    "for itr in ll:\n",
    "    filename = './features_pkl/global_'+ itr + '_image_features.pkl'\n",
    "    data = load_feature(filename)\n",
    "    x_train, x_test, y_train, y_test = train_test_split(data, label, test_size=0.25, random_state=42)\n",
    "    x_train = StandardScaling(x_train,x_train)\n",
    "    clf = AdaBoostClassifier(base_estimator = lr, algorithm = 'SAMME')\n",
    "    clf.fit(x_train, y_train)\n",
    "    save_filename = './features_pkl/global_'+ itr + '_image_features_adaboost_lr'\n",
    "    save_feature(clf, save_filename)\n",
    "    print(\"Training Done for :\", itr)"
   ]
  },
  {
   "cell_type": "code",
   "execution_count": 98,
   "id": "f7c26f03",
   "metadata": {},
   "outputs": [
    {
     "name": "stdout",
     "output_type": "stream",
     "text": [
      "27204 27204\n"
     ]
    },
    {
     "name": "stderr",
     "output_type": "stream",
     "text": [
      "d:\\Vivek\\Python\\lib\\site-packages\\sklearn\\cluster\\_kmeans.py:1416: FutureWarning: The default value of `n_init` will change from 10 to 'auto' in 1.4. Set the value of `n_init` explicitly to suppress the warning\n",
      "  super()._check_params_vs_input(X, default_n_init=10)\n"
     ]
    },
    {
     "name": "stdout",
     "output_type": "stream",
     "text": [
      "Successfully saved features\n"
     ]
    },
    {
     "name": "stderr",
     "output_type": "stream",
     "text": [
      "d:\\Vivek\\Python\\lib\\site-packages\\sklearn\\ensemble\\_base.py:156: FutureWarning: `base_estimator` was renamed to `estimator` in version 1.2 and will be removed in 1.4.\n",
      "  warnings.warn(\n"
     ]
    },
    {
     "name": "stdout",
     "output_type": "stream",
     "text": [
      "Successfully saved features\n"
     ]
    }
   ],
   "source": [
    "from sklearn.ensemble import AdaBoostClassifier\n",
    "#Adaboost on SIFT\n",
    "LF = LocalFeature(feature_type = 'SIFT', cluster_size = 50, test_size = 0.25, image_type = 'original')\n",
    "x_train, x_test, y_train, y_test = LF.fit(np_img)\n",
    "x_train = StandardScaling(x_train, x_train)\n",
    "x_test = StandardScaling(x_train,x_test)\n",
    "clf = AdaBoostClassifier(algorithm = 'SAMME')\n",
    "clf.fit(x_train, y_train)    \n",
    "save_filename = './features_pkl/local_'+ 'raw' + '_image_features_adaboost_default'\n",
    "save_feature(clf, save_filename)\n",
    "\n",
    "#SIFT on LR\n",
    "lr = LogisticRegression()\n",
    "clf = AdaBoostClassifier(base_estimator = lr, algorithm = 'SAMME')\n",
    "clf.fit(x_train, y_train)    \n",
    "save_filename = './features_pkl/local_'+ 'raw' + '_image_features_adaboost_lr'\n",
    "save_feature(clf, save_filename)"
   ]
  },
  {
   "cell_type": "markdown",
   "id": "81f5ad32",
   "metadata": {},
   "source": [
    "<h3>Prediction on both adaboost estimators"
   ]
  },
  {
   "cell_type": "code",
   "execution_count": 99,
   "id": "815642eb",
   "metadata": {},
   "outputs": [],
   "source": [
    "prob_dt = []\n",
    "prob_lr = []"
   ]
  },
  {
   "cell_type": "code",
   "execution_count": 100,
   "id": "2629ca76",
   "metadata": {},
   "outputs": [
    {
     "name": "stdout",
     "output_type": "stream",
     "text": [
      "AdaBoost default : Accuracy-0.8523947750362845 Precision-0.8488536654401359 Recall-0.8612866168868466 F1-0.8550249465431219\n",
      "AdaBoost LR : Accuracy-0.853265602322206 Precision-0.8559492941515413 Recall-0.8532452613440551 F1-0.8545951387890119\n",
      "AdaBoost default : Accuracy-0.8528301886792453 Precision-0.8423973362930077 Recall-0.8719126938541069 F1-0.8569009314140559\n",
      "AdaBoost LR : Accuracy-0.8403483309143687 Precision-0.8540428061831153 Recall-0.8251005169442849 F1-0.8393222319602688\n"
     ]
    }
   ],
   "source": [
    "ll = ['scharr', 'sobel']\n",
    "for itr in ll:\n",
    "    filename = './features_pkl/global_'+ itr + '_image_features_adaboost_default.pkl'\n",
    "    clf_deafult = load_feature(filename)\n",
    "    filename = './features_pkl/global_'+ itr + '_image_features_adaboost_lr.pkl'\n",
    "    clf_lr = load_feature(filename)\n",
    "    filename = './features_pkl/global_'+ itr + '_image_features.pkl'\n",
    "    data = load_feature(filename)\n",
    "    x_train, x_test, y_train, y_test = train_test_split(data, label, test_size=0.25, random_state=42)\n",
    "    x_test = StandardScaling(x_train,x_test)\n",
    "    y_pred_default = clf_deafult.predict(x_test)\n",
    "    y_pred_lr = clf_lr.predict(x_test)\n",
    "    y_pred_proba = clf_deafult.predict_proba(x_test)\n",
    "    prob_dt.append(y_pred_proba[:,1])\n",
    "    y_pred_proba = clf_lr.predict_proba(x_test)\n",
    "    prob_lr.append(y_pred_proba[:,1])\n",
    "    matrix,accuracy,precision,recall,f1 = metric(y_test,y_pred_default)\n",
    "    print(\"AdaBoost default : Accuracy-{0} Precision-{1} Recall-{2} F1-{3}\".format(accuracy,precision,recall,f1))\n",
    "    adaboost_dt_df.loc[itr] = [accuracy,precision,recall,f1]\n",
    "    \n",
    "    matrix,accuracy,precision,recall,f1 = metric(y_test,y_pred_lr)\n",
    "    print(\"AdaBoost LR : Accuracy-{0} Precision-{1} Recall-{2} F1-{3}\".format(accuracy,precision,recall,f1))\n",
    "    adaboost_lr_df.loc[itr] = [accuracy,precision,recall,f1]"
   ]
  },
  {
   "cell_type": "code",
   "execution_count": 101,
   "id": "dff6c8ef",
   "metadata": {},
   "outputs": [
    {
     "name": "stdout",
     "output_type": "stream",
     "text": [
      "27204 27204\n"
     ]
    },
    {
     "name": "stderr",
     "output_type": "stream",
     "text": [
      "d:\\Vivek\\Python\\lib\\site-packages\\sklearn\\cluster\\_kmeans.py:1416: FutureWarning: The default value of `n_init` will change from 10 to 'auto' in 1.4. Set the value of `n_init` explicitly to suppress the warning\n",
      "  super()._check_params_vs_input(X, default_n_init=10)\n"
     ]
    },
    {
     "name": "stdout",
     "output_type": "stream",
     "text": [
      "AdaBoost default : Accuracy-0.8756065284516983 Precision-0.9225165562913907 Recall-0.8198940553266627 F1-0.8681832346525397\n",
      "AdaBoost LR : Accuracy-0.8781061608586973 Precision-0.919908466819222 Recall-0.8281341965862272 F1-0.8716122038098189\n"
     ]
    }
   ],
   "source": [
    "#Prediction on SIFT Adaboost\n",
    "filename = './features_pkl/local_'+ 'raw' + '_image_features_adaboost_default.pkl'\n",
    "clf_deafult = load_feature(filename)\n",
    "filename = './features_pkl/local_'+ 'raw' + '_image_features_adaboost_lr.pkl'\n",
    "clf_lr = load_feature(filename)\n",
    "x_train, x_test, y_train, y_test = LF.fit(np_img)\n",
    "x_test = StandardScaling(x_train,x_test)\n",
    "\n",
    "y_pred_default = clf_deafult.predict(x_test)\n",
    "y_pred_lr = clf_lr.predict(x_test)\n",
    "y_pred_proba = clf_deafult.predict_proba(x_test)\n",
    "prob_dt.append(y_pred_proba[:,1])\n",
    "y_pred_proba = clf_lr.predict_proba(x_test)\n",
    "prob_lr.append(y_pred_proba[:,1])\n",
    "matrix,accuracy,precision,recall,f1 = metric(y_test,y_pred_default)\n",
    "print(\"AdaBoost default : Accuracy-{0} Precision-{1} Recall-{2} F1-{3}\".format(accuracy,precision,recall,f1))\n",
    "adaboost_dt_df.loc['SIFT BOVW'] = [accuracy,precision,recall,f1]\n",
    "    \n",
    "matrix,accuracy,precision,recall,f1 = metric(y_test,y_pred_lr)\n",
    "print(\"AdaBoost LR : Accuracy-{0} Precision-{1} Recall-{2} F1-{3}\".format(accuracy,precision,recall,f1))\n",
    "adaboost_lr_df.loc['SIFT BOVW'] = [accuracy,precision,recall,f1]"
   ]
  },
  {
   "cell_type": "code",
   "execution_count": 102,
   "id": "d052dcc2",
   "metadata": {},
   "outputs": [
    {
     "data": {
      "text/html": [
       "<div>\n",
       "<style scoped>\n",
       "    .dataframe tbody tr th:only-of-type {\n",
       "        vertical-align: middle;\n",
       "    }\n",
       "\n",
       "    .dataframe tbody tr th {\n",
       "        vertical-align: top;\n",
       "    }\n",
       "\n",
       "    .dataframe thead th {\n",
       "        text-align: right;\n",
       "    }\n",
       "</style>\n",
       "<table border=\"1\" class=\"dataframe\">\n",
       "  <thead>\n",
       "    <tr style=\"text-align: right;\">\n",
       "      <th></th>\n",
       "      <th>Accuracy</th>\n",
       "      <th>Precision</th>\n",
       "      <th>Recall</th>\n",
       "      <th>F1</th>\n",
       "    </tr>\n",
       "  </thead>\n",
       "  <tbody>\n",
       "    <tr>\n",
       "      <th>SIFT BOVW</th>\n",
       "      <td>0.875607</td>\n",
       "      <td>0.922517</td>\n",
       "      <td>0.819894</td>\n",
       "      <td>0.868183</td>\n",
       "    </tr>\n",
       "    <tr>\n",
       "      <th>scharr</th>\n",
       "      <td>0.852395</td>\n",
       "      <td>0.848854</td>\n",
       "      <td>0.861287</td>\n",
       "      <td>0.855025</td>\n",
       "    </tr>\n",
       "    <tr>\n",
       "      <th>sobel</th>\n",
       "      <td>0.85283</td>\n",
       "      <td>0.842397</td>\n",
       "      <td>0.871913</td>\n",
       "      <td>0.856901</td>\n",
       "    </tr>\n",
       "  </tbody>\n",
       "</table>\n",
       "</div>"
      ],
      "text/plain": [
       "           Accuracy Precision    Recall        F1\n",
       "SIFT BOVW  0.875607  0.922517  0.819894  0.868183\n",
       "scharr     0.852395  0.848854  0.861287  0.855025\n",
       "sobel       0.85283  0.842397  0.871913  0.856901"
      ]
     },
     "execution_count": 102,
     "metadata": {},
     "output_type": "execute_result"
    }
   ],
   "source": [
    "adaboost_dt_df"
   ]
  },
  {
   "cell_type": "code",
   "execution_count": 103,
   "id": "8bc2d88d",
   "metadata": {},
   "outputs": [
    {
     "data": {
      "text/html": [
       "<div>\n",
       "<style scoped>\n",
       "    .dataframe tbody tr th:only-of-type {\n",
       "        vertical-align: middle;\n",
       "    }\n",
       "\n",
       "    .dataframe tbody tr th {\n",
       "        vertical-align: top;\n",
       "    }\n",
       "\n",
       "    .dataframe thead th {\n",
       "        text-align: right;\n",
       "    }\n",
       "</style>\n",
       "<table border=\"1\" class=\"dataframe\">\n",
       "  <thead>\n",
       "    <tr style=\"text-align: right;\">\n",
       "      <th></th>\n",
       "      <th>Accuracy</th>\n",
       "      <th>Precision</th>\n",
       "      <th>Recall</th>\n",
       "      <th>F1</th>\n",
       "    </tr>\n",
       "  </thead>\n",
       "  <tbody>\n",
       "    <tr>\n",
       "      <th>SIFT BOVW</th>\n",
       "      <td>0.878106</td>\n",
       "      <td>0.919908</td>\n",
       "      <td>0.828134</td>\n",
       "      <td>0.871612</td>\n",
       "    </tr>\n",
       "    <tr>\n",
       "      <th>scharr</th>\n",
       "      <td>0.853266</td>\n",
       "      <td>0.855949</td>\n",
       "      <td>0.853245</td>\n",
       "      <td>0.854595</td>\n",
       "    </tr>\n",
       "    <tr>\n",
       "      <th>sobel</th>\n",
       "      <td>0.840348</td>\n",
       "      <td>0.854043</td>\n",
       "      <td>0.825101</td>\n",
       "      <td>0.839322</td>\n",
       "    </tr>\n",
       "  </tbody>\n",
       "</table>\n",
       "</div>"
      ],
      "text/plain": [
       "           Accuracy Precision    Recall        F1\n",
       "SIFT BOVW  0.878106  0.919908  0.828134  0.871612\n",
       "scharr     0.853266  0.855949  0.853245  0.854595\n",
       "sobel      0.840348  0.854043  0.825101  0.839322"
      ]
     },
     "execution_count": 103,
     "metadata": {},
     "output_type": "execute_result"
    }
   ],
   "source": [
    "adaboost_lr_df"
   ]
  },
  {
   "cell_type": "code",
   "execution_count": 104,
   "id": "f0777f67",
   "metadata": {},
   "outputs": [
    {
     "data": {
      "image/png": "[encoded data removed]",
      "text/plain": [
       "<Figure size 1200x600 with 1 Axes>"
      ]
     },
     "metadata": {},
     "output_type": "display_data"
    }
   ],
   "source": [
    "plot_roc(y1, y2, prob_dt, ['scharr', 'sobel', 'SIFT BOVW'])"
   ]
  },
  {
   "cell_type": "code",
   "execution_count": 105,
   "id": "540cdd6c",
   "metadata": {},
   "outputs": [
    {
     "data": {
      "image/png": "[encoded data removed]",
      "text/plain": [
       "<Figure size 1200x600 with 1 Axes>"
      ]
     },
     "metadata": {},
     "output_type": "display_data"
    }
   ],
   "source": [
    "plot_roc(y1, y2, prob_lr, ['scharr', 'sobel', 'SIFT BOVW'])"
   ]
  }
 ],
 "metadata": {
  "kernelspec": {
   "display_name": "Python 3 (ipykernel)",
   "language": "python",
   "name": "python3"
  },
  "language_info": {
   "codemirror_mode": {
    "name": "ipython",
    "version": 3
   },
   "file_extension": ".py",
   "mimetype": "text/x-python",
   "name": "python",
   "nbconvert_exporter": "python",
   "pygments_lexer": "ipython3",
   "version": "3.10.2"
  }
 },
 "nbformat": 4,
 "nbformat_minor": 5
}
